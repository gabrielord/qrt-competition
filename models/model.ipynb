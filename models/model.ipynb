{
 "cells": [
  {
   "cell_type": "code",
   "execution_count": 3,
   "id": "0271094b",
   "metadata": {
    "execution": {
     "iopub.execute_input": "2023-12-03T09:01:05.918991Z",
     "iopub.status.busy": "2023-12-03T09:01:05.918796Z",
     "iopub.status.idle": "2023-12-03T09:01:07.725180Z",
     "shell.execute_reply": "2023-12-03T09:01:07.723966Z",
     "shell.execute_reply.started": "2023-12-03T09:01:05.918976Z"
    },
    "tags": []
   },
   "outputs": [
    {
     "name": "stderr",
     "output_type": "stream",
     "text": [
      "Matplotlib is building the font cache; this may take a moment.\n"
     ]
    }
   ],
   "source": [
    "import pandas as pd\n",
    "import numpy as np\n",
    "from tqdm import tqdm\n",
    "from sklearn import model_selection\n",
    "from sklearn.metrics import accuracy_score\n",
    "from sklearn.impute import SimpleImputer\n",
    "import xgboost as xgb\n",
    "import warnings\n",
    "import matplotlib.pyplot as plt\n",
    "import os\n",
    "import re\n",
    "warnings.filterwarnings('ignore')"
   ]
  },
  {
   "cell_type": "markdown",
   "id": "81774830",
   "metadata": {},
   "source": [
    "## Read Train data"
   ]
  },
  {
   "cell_type": "code",
   "execution_count": 20,
   "id": "6aee6b65-07fa-442e-b0b3-4328ef3007e5",
   "metadata": {
    "execution": {
     "iopub.execute_input": "2023-12-03T08:49:06.618707Z",
     "iopub.status.busy": "2023-12-03T08:49:06.618608Z",
     "iopub.status.idle": "2023-12-03T08:49:06.882305Z",
     "shell.execute_reply": "2023-12-03T08:49:06.881730Z",
     "shell.execute_reply.started": "2023-12-03T08:49:06.618696Z"
    },
    "tags": []
   },
   "outputs": [],
   "source": [
    "train_home_team_statistics_df = pd.read_csv('/Users/gabriellima/Documents/Competitions/DataQRT/Train_Data/train_home_team_statistics_df.csv', index_col=0)\n",
    "train_away_team_statistics_df = pd.read_csv('/Users/gabriellima/Documents/Competitions/DataQRT/Train_Data/train_away_team_statistics_df.csv', index_col=0)\n",
    "\n",
    "train_scores = pd.read_csv('/Users/gabriellima/Documents/Competitions/DataQRT/Y_train_1rknArQ.csv', index_col=0)\n",
    "\n",
    "train_home = train_home_team_statistics_df.iloc[:,2:]\n",
    "train_away = train_away_team_statistics_df.iloc[:,2:]\n",
    "\n",
    "train_home.columns = 'HOME_' + train_home.columns\n",
    "train_away.columns = 'AWAY_' + train_away.columns\n",
    "\n",
    "train_data =  pd.concat([train_home,train_away],join='inner',axis=1)\n",
    "train_scores = train_scores.loc[train_data.index]\n",
    "\n",
    "train_data = train_data.replace({np.inf:np.nan,-np.inf:np.nan})"
   ]
  },
  {
   "cell_type": "code",
   "execution_count": 6,
   "id": "7dd2c9d3-9a89-43b6-a746-5101de68f83b",
   "metadata": {
    "execution": {
     "iopub.execute_input": "2023-12-03T08:49:31.027863Z",
     "iopub.status.busy": "2023-12-03T08:49:31.027660Z",
     "iopub.status.idle": "2023-12-03T08:49:31.043849Z",
     "shell.execute_reply": "2023-12-03T08:49:31.043086Z",
     "shell.execute_reply.started": "2023-12-03T08:49:31.027846Z"
    },
    "tags": []
   },
   "outputs": [
    {
     "data": {
      "text/html": [
       "<div>\n",
       "<style scoped>\n",
       "    .dataframe tbody tr th:only-of-type {\n",
       "        vertical-align: middle;\n",
       "    }\n",
       "\n",
       "    .dataframe tbody tr th {\n",
       "        vertical-align: top;\n",
       "    }\n",
       "\n",
       "    .dataframe thead th {\n",
       "        text-align: right;\n",
       "    }\n",
       "</style>\n",
       "<table border=\"1\" class=\"dataframe\">\n",
       "  <thead>\n",
       "    <tr style=\"text-align: right;\">\n",
       "      <th></th>\n",
       "      <th>HOME_TEAM_SHOTS_TOTAL_season_sum</th>\n",
       "      <th>HOME_TEAM_SHOTS_INSIDEBOX_season_sum</th>\n",
       "      <th>HOME_TEAM_SHOTS_OFF_TARGET_season_sum</th>\n",
       "      <th>HOME_TEAM_SHOTS_ON_TARGET_season_sum</th>\n",
       "      <th>HOME_TEAM_SHOTS_OUTSIDEBOX_season_sum</th>\n",
       "      <th>HOME_TEAM_PASSES_season_sum</th>\n",
       "      <th>HOME_TEAM_SUCCESSFUL_PASSES_season_sum</th>\n",
       "      <th>HOME_TEAM_SAVES_season_sum</th>\n",
       "      <th>HOME_TEAM_CORNERS_season_sum</th>\n",
       "      <th>HOME_TEAM_FOULS_season_sum</th>\n",
       "      <th>...</th>\n",
       "      <th>AWAY_TEAM_YELLOWCARDS_5_last_match_std</th>\n",
       "      <th>AWAY_TEAM_REDCARDS_5_last_match_std</th>\n",
       "      <th>AWAY_TEAM_OFFSIDES_5_last_match_std</th>\n",
       "      <th>AWAY_TEAM_ATTACKS_5_last_match_std</th>\n",
       "      <th>AWAY_TEAM_PENALTIES_5_last_match_std</th>\n",
       "      <th>AWAY_TEAM_SUBSTITUTIONS_5_last_match_std</th>\n",
       "      <th>AWAY_TEAM_BALL_SAFE_5_last_match_std</th>\n",
       "      <th>AWAY_TEAM_DANGEROUS_ATTACKS_5_last_match_std</th>\n",
       "      <th>AWAY_TEAM_INJURIES_5_last_match_std</th>\n",
       "      <th>AWAY_TEAM_GOALS_5_last_match_std</th>\n",
       "    </tr>\n",
       "    <tr>\n",
       "      <th>ID</th>\n",
       "      <th></th>\n",
       "      <th></th>\n",
       "      <th></th>\n",
       "      <th></th>\n",
       "      <th></th>\n",
       "      <th></th>\n",
       "      <th></th>\n",
       "      <th></th>\n",
       "      <th></th>\n",
       "      <th></th>\n",
       "      <th></th>\n",
       "      <th></th>\n",
       "      <th></th>\n",
       "      <th></th>\n",
       "      <th></th>\n",
       "      <th></th>\n",
       "      <th></th>\n",
       "      <th></th>\n",
       "      <th></th>\n",
       "      <th></th>\n",
       "      <th></th>\n",
       "    </tr>\n",
       "  </thead>\n",
       "  <tbody>\n",
       "    <tr>\n",
       "      <th>0</th>\n",
       "      <td>3.0</td>\n",
       "      <td>2.0</td>\n",
       "      <td>5.0</td>\n",
       "      <td>2.0</td>\n",
       "      <td>1.0</td>\n",
       "      <td>2.0</td>\n",
       "      <td>2.0</td>\n",
       "      <td>5.0</td>\n",
       "      <td>3.0</td>\n",
       "      <td>6.0</td>\n",
       "      <td>...</td>\n",
       "      <td>5.0</td>\n",
       "      <td>5.0</td>\n",
       "      <td>4.0</td>\n",
       "      <td>0.0</td>\n",
       "      <td>6.0</td>\n",
       "      <td>8.0</td>\n",
       "      <td>4.0</td>\n",
       "      <td>3.0</td>\n",
       "      <td>2.0</td>\n",
       "      <td>3.0</td>\n",
       "    </tr>\n",
       "    <tr>\n",
       "      <th>1</th>\n",
       "      <td>6.0</td>\n",
       "      <td>8.0</td>\n",
       "      <td>3.0</td>\n",
       "      <td>6.0</td>\n",
       "      <td>5.0</td>\n",
       "      <td>8.0</td>\n",
       "      <td>7.0</td>\n",
       "      <td>10.0</td>\n",
       "      <td>6.0</td>\n",
       "      <td>8.0</td>\n",
       "      <td>...</td>\n",
       "      <td>0.0</td>\n",
       "      <td>0.0</td>\n",
       "      <td>3.0</td>\n",
       "      <td>1.0</td>\n",
       "      <td>8.0</td>\n",
       "      <td>4.0</td>\n",
       "      <td>10.0</td>\n",
       "      <td>0.0</td>\n",
       "      <td>5.0</td>\n",
       "      <td>3.0</td>\n",
       "    </tr>\n",
       "    <tr>\n",
       "      <th>2</th>\n",
       "      <td>4.0</td>\n",
       "      <td>2.0</td>\n",
       "      <td>5.0</td>\n",
       "      <td>2.0</td>\n",
       "      <td>8.0</td>\n",
       "      <td>1.0</td>\n",
       "      <td>1.0</td>\n",
       "      <td>2.0</td>\n",
       "      <td>2.0</td>\n",
       "      <td>7.0</td>\n",
       "      <td>...</td>\n",
       "      <td>6.0</td>\n",
       "      <td>10.0</td>\n",
       "      <td>4.0</td>\n",
       "      <td>4.0</td>\n",
       "      <td>0.0</td>\n",
       "      <td>8.0</td>\n",
       "      <td>3.0</td>\n",
       "      <td>0.0</td>\n",
       "      <td>9.0</td>\n",
       "      <td>6.0</td>\n",
       "    </tr>\n",
       "    <tr>\n",
       "      <th>3</th>\n",
       "      <td>7.0</td>\n",
       "      <td>5.0</td>\n",
       "      <td>5.0</td>\n",
       "      <td>6.0</td>\n",
       "      <td>6.0</td>\n",
       "      <td>9.0</td>\n",
       "      <td>9.0</td>\n",
       "      <td>2.0</td>\n",
       "      <td>2.0</td>\n",
       "      <td>0.0</td>\n",
       "      <td>...</td>\n",
       "      <td>0.0</td>\n",
       "      <td>0.0</td>\n",
       "      <td>1.0</td>\n",
       "      <td>2.0</td>\n",
       "      <td>0.0</td>\n",
       "      <td>5.0</td>\n",
       "      <td>6.0</td>\n",
       "      <td>3.0</td>\n",
       "      <td>NaN</td>\n",
       "      <td>2.0</td>\n",
       "    </tr>\n",
       "    <tr>\n",
       "      <th>4</th>\n",
       "      <td>3.0</td>\n",
       "      <td>3.0</td>\n",
       "      <td>2.0</td>\n",
       "      <td>3.0</td>\n",
       "      <td>4.0</td>\n",
       "      <td>4.0</td>\n",
       "      <td>3.0</td>\n",
       "      <td>4.0</td>\n",
       "      <td>4.0</td>\n",
       "      <td>7.0</td>\n",
       "      <td>...</td>\n",
       "      <td>1.0</td>\n",
       "      <td>0.0</td>\n",
       "      <td>4.0</td>\n",
       "      <td>4.0</td>\n",
       "      <td>9.0</td>\n",
       "      <td>4.0</td>\n",
       "      <td>1.0</td>\n",
       "      <td>4.0</td>\n",
       "      <td>6.0</td>\n",
       "      <td>5.0</td>\n",
       "    </tr>\n",
       "  </tbody>\n",
       "</table>\n",
       "<p>5 rows × 280 columns</p>\n",
       "</div>"
      ],
      "text/plain": [
       "    HOME_TEAM_SHOTS_TOTAL_season_sum  HOME_TEAM_SHOTS_INSIDEBOX_season_sum  \\\n",
       "ID                                                                           \n",
       "0                                3.0                                   2.0   \n",
       "1                                6.0                                   8.0   \n",
       "2                                4.0                                   2.0   \n",
       "3                                7.0                                   5.0   \n",
       "4                                3.0                                   3.0   \n",
       "\n",
       "    HOME_TEAM_SHOTS_OFF_TARGET_season_sum  \\\n",
       "ID                                          \n",
       "0                                     5.0   \n",
       "1                                     3.0   \n",
       "2                                     5.0   \n",
       "3                                     5.0   \n",
       "4                                     2.0   \n",
       "\n",
       "    HOME_TEAM_SHOTS_ON_TARGET_season_sum  \\\n",
       "ID                                         \n",
       "0                                    2.0   \n",
       "1                                    6.0   \n",
       "2                                    2.0   \n",
       "3                                    6.0   \n",
       "4                                    3.0   \n",
       "\n",
       "    HOME_TEAM_SHOTS_OUTSIDEBOX_season_sum  HOME_TEAM_PASSES_season_sum  \\\n",
       "ID                                                                       \n",
       "0                                     1.0                          2.0   \n",
       "1                                     5.0                          8.0   \n",
       "2                                     8.0                          1.0   \n",
       "3                                     6.0                          9.0   \n",
       "4                                     4.0                          4.0   \n",
       "\n",
       "    HOME_TEAM_SUCCESSFUL_PASSES_season_sum  HOME_TEAM_SAVES_season_sum  \\\n",
       "ID                                                                       \n",
       "0                                      2.0                         5.0   \n",
       "1                                      7.0                        10.0   \n",
       "2                                      1.0                         2.0   \n",
       "3                                      9.0                         2.0   \n",
       "4                                      3.0                         4.0   \n",
       "\n",
       "    HOME_TEAM_CORNERS_season_sum  HOME_TEAM_FOULS_season_sum  ...  \\\n",
       "ID                                                            ...   \n",
       "0                            3.0                         6.0  ...   \n",
       "1                            6.0                         8.0  ...   \n",
       "2                            2.0                         7.0  ...   \n",
       "3                            2.0                         0.0  ...   \n",
       "4                            4.0                         7.0  ...   \n",
       "\n",
       "    AWAY_TEAM_YELLOWCARDS_5_last_match_std  \\\n",
       "ID                                           \n",
       "0                                      5.0   \n",
       "1                                      0.0   \n",
       "2                                      6.0   \n",
       "3                                      0.0   \n",
       "4                                      1.0   \n",
       "\n",
       "    AWAY_TEAM_REDCARDS_5_last_match_std  AWAY_TEAM_OFFSIDES_5_last_match_std  \\\n",
       "ID                                                                             \n",
       "0                                   5.0                                  4.0   \n",
       "1                                   0.0                                  3.0   \n",
       "2                                  10.0                                  4.0   \n",
       "3                                   0.0                                  1.0   \n",
       "4                                   0.0                                  4.0   \n",
       "\n",
       "    AWAY_TEAM_ATTACKS_5_last_match_std  AWAY_TEAM_PENALTIES_5_last_match_std  \\\n",
       "ID                                                                             \n",
       "0                                  0.0                                   6.0   \n",
       "1                                  1.0                                   8.0   \n",
       "2                                  4.0                                   0.0   \n",
       "3                                  2.0                                   0.0   \n",
       "4                                  4.0                                   9.0   \n",
       "\n",
       "    AWAY_TEAM_SUBSTITUTIONS_5_last_match_std  \\\n",
       "ID                                             \n",
       "0                                        8.0   \n",
       "1                                        4.0   \n",
       "2                                        8.0   \n",
       "3                                        5.0   \n",
       "4                                        4.0   \n",
       "\n",
       "    AWAY_TEAM_BALL_SAFE_5_last_match_std  \\\n",
       "ID                                         \n",
       "0                                    4.0   \n",
       "1                                   10.0   \n",
       "2                                    3.0   \n",
       "3                                    6.0   \n",
       "4                                    1.0   \n",
       "\n",
       "    AWAY_TEAM_DANGEROUS_ATTACKS_5_last_match_std  \\\n",
       "ID                                                 \n",
       "0                                            3.0   \n",
       "1                                            0.0   \n",
       "2                                            0.0   \n",
       "3                                            3.0   \n",
       "4                                            4.0   \n",
       "\n",
       "    AWAY_TEAM_INJURIES_5_last_match_std  AWAY_TEAM_GOALS_5_last_match_std  \n",
       "ID                                                                         \n",
       "0                                   2.0                               3.0  \n",
       "1                                   5.0                               3.0  \n",
       "2                                   9.0                               6.0  \n",
       "3                                   NaN                               2.0  \n",
       "4                                   6.0                               5.0  \n",
       "\n",
       "[5 rows x 280 columns]"
      ]
     },
     "execution_count": 6,
     "metadata": {},
     "output_type": "execute_result"
    }
   ],
   "source": [
    "train_data.head()"
   ]
  },
  {
   "cell_type": "code",
   "execution_count": 16,
   "id": "caa2585f",
   "metadata": {},
   "outputs": [
    {
     "data": {
      "text/html": [
       "<div>\n",
       "<style scoped>\n",
       "    .dataframe tbody tr th:only-of-type {\n",
       "        vertical-align: middle;\n",
       "    }\n",
       "\n",
       "    .dataframe tbody tr th {\n",
       "        vertical-align: top;\n",
       "    }\n",
       "\n",
       "    .dataframe thead th {\n",
       "        text-align: right;\n",
       "    }\n",
       "</style>\n",
       "<table border=\"1\" class=\"dataframe\">\n",
       "  <thead>\n",
       "    <tr style=\"text-align: right;\">\n",
       "      <th></th>\n",
       "      <th>HOME_WINS</th>\n",
       "      <th>DRAW</th>\n",
       "      <th>AWAY_WINS</th>\n",
       "    </tr>\n",
       "    <tr>\n",
       "      <th>ID</th>\n",
       "      <th></th>\n",
       "      <th></th>\n",
       "      <th></th>\n",
       "    </tr>\n",
       "  </thead>\n",
       "  <tbody>\n",
       "    <tr>\n",
       "      <th>0</th>\n",
       "      <td>0</td>\n",
       "      <td>0</td>\n",
       "      <td>1</td>\n",
       "    </tr>\n",
       "    <tr>\n",
       "      <th>1</th>\n",
       "      <td>0</td>\n",
       "      <td>1</td>\n",
       "      <td>0</td>\n",
       "    </tr>\n",
       "    <tr>\n",
       "      <th>2</th>\n",
       "      <td>0</td>\n",
       "      <td>0</td>\n",
       "      <td>1</td>\n",
       "    </tr>\n",
       "    <tr>\n",
       "      <th>3</th>\n",
       "      <td>1</td>\n",
       "      <td>0</td>\n",
       "      <td>0</td>\n",
       "    </tr>\n",
       "    <tr>\n",
       "      <th>4</th>\n",
       "      <td>0</td>\n",
       "      <td>1</td>\n",
       "      <td>0</td>\n",
       "    </tr>\n",
       "  </tbody>\n",
       "</table>\n",
       "</div>"
      ],
      "text/plain": [
       "    HOME_WINS  DRAW  AWAY_WINS\n",
       "ID                            \n",
       "0           0     0          1\n",
       "1           0     1          0\n",
       "2           0     0          1\n",
       "3           1     0          0\n",
       "4           0     1          0"
      ]
     },
     "execution_count": 16,
     "metadata": {},
     "output_type": "execute_result"
    }
   ],
   "source": [
    "train_scores.head()"
   ]
  },
  {
   "cell_type": "code",
   "execution_count": 26,
   "id": "dcfbfac1",
   "metadata": {},
   "outputs": [],
   "source": [
    "from sklearn.preprocessing import LabelEncoder\n",
    "\n",
    "def get_result(row):\n",
    "    if row['HOME_WINS'] == 1:\n",
    "        return 'HOME_WINS'\n",
    "    elif row['DRAW'] == 1:\n",
    "        return 'DRAW'\n",
    "    elif row['AWAY_WINS'] == 1:\n",
    "        return 'AWAY_WINS'\n",
    "    else:\n",
    "        return 'UNKNOWN'\n",
    "\n",
    "train_scores['RESULT'] = train_scores.apply(get_result, axis=1)\n",
    "\n",
    "# Remover as colunas originais\n",
    "train_scores = train_scores.drop(columns=['HOME_WINS', 'DRAW', 'AWAY_WINS'])\n",
    "\n",
    "# Aplicar Label Encoding na coluna RESULT\n",
    "label_encoder = LabelEncoder()\n",
    "train_scores['RESULT'] = label_encoder.fit_transform(train_scores['RESULT'])"
   ]
  },
  {
   "cell_type": "code",
   "execution_count": 42,
   "id": "2db958aa",
   "metadata": {},
   "outputs": [
    {
     "data": {
      "text/html": [
       "<div>\n",
       "<style scoped>\n",
       "    .dataframe tbody tr th:only-of-type {\n",
       "        vertical-align: middle;\n",
       "    }\n",
       "\n",
       "    .dataframe tbody tr th {\n",
       "        vertical-align: top;\n",
       "    }\n",
       "\n",
       "    .dataframe thead th {\n",
       "        text-align: right;\n",
       "    }\n",
       "</style>\n",
       "<table border=\"1\" class=\"dataframe\">\n",
       "  <thead>\n",
       "    <tr style=\"text-align: right;\">\n",
       "      <th></th>\n",
       "      <th>RESULT</th>\n",
       "    </tr>\n",
       "    <tr>\n",
       "      <th>ID</th>\n",
       "      <th></th>\n",
       "    </tr>\n",
       "  </thead>\n",
       "  <tbody>\n",
       "    <tr>\n",
       "      <th>0</th>\n",
       "      <td>0</td>\n",
       "    </tr>\n",
       "    <tr>\n",
       "      <th>1</th>\n",
       "      <td>1</td>\n",
       "    </tr>\n",
       "    <tr>\n",
       "      <th>2</th>\n",
       "      <td>0</td>\n",
       "    </tr>\n",
       "    <tr>\n",
       "      <th>3</th>\n",
       "      <td>2</td>\n",
       "    </tr>\n",
       "    <tr>\n",
       "      <th>4</th>\n",
       "      <td>1</td>\n",
       "    </tr>\n",
       "  </tbody>\n",
       "</table>\n",
       "</div>"
      ],
      "text/plain": [
       "    RESULT\n",
       "ID        \n",
       "0        0\n",
       "1        1\n",
       "2        0\n",
       "3        2\n",
       "4        1"
      ]
     },
     "execution_count": 42,
     "metadata": {},
     "output_type": "execute_result"
    }
   ],
   "source": [
    "train_scores.head()"
   ]
  },
  {
   "cell_type": "code",
   "execution_count": 28,
   "id": "4896346e",
   "metadata": {},
   "outputs": [],
   "source": [
    "def count_nan_values(df: pd.DataFrame, pct = 0.15) -> list[str]:\n",
    "    series_missing_values = (df.isna().sum()/df.shape[0]).sort_values(ascending=False)\n",
    "    drop_columns = series_missing_values[series_missing_values > pct].index\n",
    "    return drop_columns"
   ]
  },
  {
   "cell_type": "code",
   "execution_count": 43,
   "id": "8a54b08c",
   "metadata": {},
   "outputs": [
    {
     "name": "stdout",
     "output_type": "stream",
     "text": [
      "Index(['AWAY_TEAM_ATTACKS_5_last_match_average',\n",
      "       'AWAY_TEAM_ATTACKS_5_last_match_std',\n",
      "       'AWAY_TEAM_ATTACKS_5_last_match_sum',\n",
      "       'AWAY_TEAM_ATTACKS_season_average', 'AWAY_TEAM_ATTACKS_season_std',\n",
      "       'AWAY_TEAM_ATTACKS_season_sum',\n",
      "       'AWAY_TEAM_BALL_POSSESSION_5_last_match_average',\n",
      "       'AWAY_TEAM_BALL_POSSESSION_5_last_match_std',\n",
      "       'AWAY_TEAM_BALL_POSSESSION_season_average',\n",
      "       'AWAY_TEAM_BALL_POSSESSION_season_std',\n",
      "       ...\n",
      "       'HOME_TEAM_SUBSTITUTIONS_5_last_match_sum',\n",
      "       'HOME_TEAM_SUBSTITUTIONS_season_average',\n",
      "       'HOME_TEAM_SUBSTITUTIONS_season_std',\n",
      "       'HOME_TEAM_SUBSTITUTIONS_season_sum',\n",
      "       'HOME_TEAM_YELLOWCARDS_5_last_match_average',\n",
      "       'HOME_TEAM_YELLOWCARDS_5_last_match_std',\n",
      "       'HOME_TEAM_YELLOWCARDS_5_last_match_sum',\n",
      "       'HOME_TEAM_YELLOWCARDS_season_average',\n",
      "       'HOME_TEAM_YELLOWCARDS_season_std', 'HOME_TEAM_YELLOWCARDS_season_sum'],\n",
      "      dtype='object', length=210)\n"
     ]
    }
   ],
   "source": [
    "drop_columns = count_nan_values(train_data, .1)\n",
    "\n",
    "# Identify columns to keep\n",
    "keep_columns = train_data.columns.difference(drop_columns)\n",
    "\n",
    "# Drop the identified columns from the DataFrame\n",
    "train_data_cleaned = train_data[keep_columns]\n",
    "\n",
    "print(keep_columns)"
   ]
  },
  {
   "cell_type": "markdown",
   "id": "8f1e62aa",
   "metadata": {},
   "source": [
    "### Imputer"
   ]
  },
  {
   "cell_type": "code",
   "execution_count": 44,
   "id": "f63bb457",
   "metadata": {},
   "outputs": [
    {
     "name": "stdout",
     "output_type": "stream",
     "text": [
      "<class 'pandas.core.frame.DataFrame'>\n",
      "Index: 12303 entries, 0 to 12302\n",
      "Columns: 210 entries, AWAY_TEAM_ATTACKS_5_last_match_average to HOME_TEAM_YELLOWCARDS_season_sum\n",
      "dtypes: float64(210)\n",
      "memory usage: 20.1 MB\n"
     ]
    }
   ],
   "source": [
    "train_data_cleaned.info()"
   ]
  },
  {
   "cell_type": "code",
   "execution_count": 45,
   "id": "c2f36218",
   "metadata": {},
   "outputs": [],
   "source": [
    "# Identify numerical columns\n",
    "numerical_cols = train_data_cleaned.select_dtypes(include=['number']).columns\n",
    "\n",
    "# Identify categorical columns\n",
    "categorical_cols = train_data_cleaned.select_dtypes(include=['object', 'category']).columns\n",
    "\n",
    "# Create the imputers\n",
    "numerical_imputer = SimpleImputer(strategy='median')\n",
    "categorical_imputer = SimpleImputer(strategy='most_frequent')\n",
    "\n",
    "# Fit the imputers on the training data\n",
    "if not numerical_cols.empty:\n",
    "    numerical_imputer.fit(train_data_cleaned[numerical_cols])\n",
    "\n",
    "if not categorical_cols.empty:\n",
    "    categorical_imputer.fit(train_data_cleaned[categorical_cols])\n",
    "\n",
    "# Create copies of the DataFrames to avoid modifying the original ones\n",
    "train_data_fillna = train_data_cleaned.copy()\n",
    "# test_data_fillna = test_data_cleaned.copy()\n",
    "\n",
    "# Transform the training data\n",
    "if not numerical_cols.empty:\n",
    "    train_data_fillna[numerical_cols] = numerical_imputer.transform(train_data_cleaned[numerical_cols])\n",
    "    # test_data_fillna[numerical_cols] = numerical_imputer.transform(test_data_cleaned[numerical_cols])\n",
    "\n",
    "if not categorical_cols.empty:\n",
    "    train_data_fillna[categorical_cols] = categorical_imputer.transform(train_data_cleaned[categorical_cols])\n",
    "    # test_data_fillna[categorical_cols] = categorical_imputer.transform(test_data_cleaned[categorical_cols])"
   ]
  },
  {
   "cell_type": "markdown",
   "id": "72068e90-b2e3-41cf-b5de-41b86dd1c1cc",
   "metadata": {},
   "source": [
    "## Training\n"
   ]
  },
  {
   "cell_type": "markdown",
   "id": "73acde0c",
   "metadata": {},
   "source": [
    "### train, valid test split"
   ]
  },
  {
   "cell_type": "code",
   "execution_count": 48,
   "id": "702356a1",
   "metadata": {
    "execution": {
     "iopub.execute_input": "2023-12-03T08:59:14.353015Z",
     "iopub.status.busy": "2023-12-03T08:59:14.352825Z",
     "iopub.status.idle": "2023-12-03T08:59:14.376440Z",
     "shell.execute_reply": "2023-12-03T08:59:14.375834Z",
     "shell.execute_reply.started": "2023-12-03T08:59:14.353001Z"
    },
    "tags": []
   },
   "outputs": [],
   "source": [
    "X_train, X_test, y_train, y_test = model_selection.train_test_split(train_data_fillna, train_scores, train_size=0.8, random_state=42)\n",
    "X_train, X_valid, y_train, y_valid = model_selection.train_test_split(X_train, y_train, train_size=0.8, random_state=42)"
   ]
  },
  {
   "cell_type": "code",
   "execution_count": 52,
   "id": "924d6004",
   "metadata": {},
   "outputs": [
    {
     "data": {
      "text/plain": [
       "array([1, 2, 0])"
      ]
     },
     "execution_count": 52,
     "metadata": {},
     "output_type": "execute_result"
    }
   ],
   "source": [
    "y_valid.RESULT.unique()"
   ]
  },
  {
   "cell_type": "markdown",
   "id": "a02bbbd6",
   "metadata": {},
   "source": [
    "### xgb model"
   ]
  },
  {
   "cell_type": "code",
   "execution_count": 49,
   "id": "df4452aa",
   "metadata": {
    "execution": {
     "iopub.execute_input": "2023-12-03T09:00:17.482838Z",
     "iopub.status.busy": "2023-12-03T09:00:17.482595Z",
     "iopub.status.idle": "2023-12-03T09:00:19.391024Z",
     "shell.execute_reply": "2023-12-03T09:00:19.390481Z",
     "shell.execute_reply.started": "2023-12-03T09:00:17.482821Z"
    },
    "tags": []
   },
   "outputs": [
    {
     "ename": "XGBoostError",
     "evalue": "[17:48:54] /Users/runner/work/xgboost/xgboost/src/objective/multiclass_obj.cu:111: SoftmaxMultiClassObj: label must be in [0, num_class).\nStack trace:\n  [bt] (0) 1   libxgboost.dylib                    0x000000017a8ece28 dmlc::LogMessageFatal::~LogMessageFatal() + 124\n  [bt] (1) 2   libxgboost.dylib                    0x000000017ab5942c xgboost::obj::SoftmaxMultiClassObj::GetGradient(xgboost::HostDeviceVector<float> const&, xgboost::MetaInfo const&, int, xgboost::linalg::Tensor<xgboost::detail::GradientPairInternal<float>, 2>*) + 684\n  [bt] (2) 3   libxgboost.dylib                    0x000000017aad36e4 xgboost::LearnerImpl::UpdateOneIter(int, std::__1::shared_ptr<xgboost::DMatrix>) + 692\n  [bt] (3) 4   libxgboost.dylib                    0x000000017a90e3e4 XGBoosterUpdateOneIter + 144\n  [bt] (4) 5   libffi.dylib                        0x00000001961a2050 ffi_call_SYSV + 80\n  [bt] (5) 6   libffi.dylib                        0x00000001961aaadc ffi_call_int + 1208\n  [bt] (6) 7   _ctypes.cpython-312-darwin.so       0x0000000106f979e8 _ctypes_callproc + 808\n  [bt] (7) 8   _ctypes.cpython-312-darwin.so       0x0000000106f90a14 PyCFuncPtr_call + 216\n  [bt] (8) 9   Python                              0x0000000104c2b4f0 _PyObject_MakeTpCall + 128\n\n",
     "output_type": "error",
     "traceback": [
      "\u001b[0;31m---------------------------------------------------------------------------\u001b[0m",
      "\u001b[0;31mXGBoostError\u001b[0m                              Traceback (most recent call last)",
      "Cell \u001b[0;32mIn[49], line 18\u001b[0m\n\u001b[1;32m     15\u001b[0m num_round \u001b[38;5;241m=\u001b[39m \u001b[38;5;241m10000\u001b[39m\n\u001b[1;32m     16\u001b[0m evallist \u001b[38;5;241m=\u001b[39m [(d_train, \u001b[38;5;124m'\u001b[39m\u001b[38;5;124mtrain\u001b[39m\u001b[38;5;124m'\u001b[39m), (d_valid, \u001b[38;5;124m'\u001b[39m\u001b[38;5;124meval\u001b[39m\u001b[38;5;124m'\u001b[39m)]\n\u001b[0;32m---> 18\u001b[0m bst \u001b[38;5;241m=\u001b[39m \u001b[43mxgb\u001b[49m\u001b[38;5;241;43m.\u001b[39;49m\u001b[43mtrain\u001b[49m\u001b[43m(\u001b[49m\u001b[43mparams_1\u001b[49m\u001b[43m,\u001b[49m\u001b[43m \u001b[49m\u001b[43md_train\u001b[49m\u001b[43m,\u001b[49m\u001b[43m \u001b[49m\u001b[43mnum_round\u001b[49m\u001b[43m,\u001b[49m\u001b[43m \u001b[49m\u001b[43mevallist\u001b[49m\u001b[43m,\u001b[49m\u001b[43m \u001b[49m\u001b[43mearly_stopping_rounds\u001b[49m\u001b[38;5;241;43m=\u001b[39;49m\u001b[38;5;241;43m100\u001b[39;49m\u001b[43m)\u001b[49m\n",
      "File \u001b[0;32m~/Documents/Competitions/qrt-competition/.venv/lib/python3.12/site-packages/xgboost/core.py:726\u001b[0m, in \u001b[0;36mrequire_keyword_args.<locals>.throw_if.<locals>.inner_f\u001b[0;34m(*args, **kwargs)\u001b[0m\n\u001b[1;32m    724\u001b[0m \u001b[38;5;28;01mfor\u001b[39;00m k, arg \u001b[38;5;129;01min\u001b[39;00m \u001b[38;5;28mzip\u001b[39m(sig\u001b[38;5;241m.\u001b[39mparameters, args):\n\u001b[1;32m    725\u001b[0m     kwargs[k] \u001b[38;5;241m=\u001b[39m arg\n\u001b[0;32m--> 726\u001b[0m \u001b[38;5;28;01mreturn\u001b[39;00m \u001b[43mfunc\u001b[49m\u001b[43m(\u001b[49m\u001b[38;5;241;43m*\u001b[39;49m\u001b[38;5;241;43m*\u001b[39;49m\u001b[43mkwargs\u001b[49m\u001b[43m)\u001b[49m\n",
      "File \u001b[0;32m~/Documents/Competitions/qrt-competition/.venv/lib/python3.12/site-packages/xgboost/training.py:181\u001b[0m, in \u001b[0;36mtrain\u001b[0;34m(params, dtrain, num_boost_round, evals, obj, feval, maximize, early_stopping_rounds, evals_result, verbose_eval, xgb_model, callbacks, custom_metric)\u001b[0m\n\u001b[1;32m    179\u001b[0m \u001b[38;5;28;01mif\u001b[39;00m cb_container\u001b[38;5;241m.\u001b[39mbefore_iteration(bst, i, dtrain, evals):\n\u001b[1;32m    180\u001b[0m     \u001b[38;5;28;01mbreak\u001b[39;00m\n\u001b[0;32m--> 181\u001b[0m \u001b[43mbst\u001b[49m\u001b[38;5;241;43m.\u001b[39;49m\u001b[43mupdate\u001b[49m\u001b[43m(\u001b[49m\u001b[43mdtrain\u001b[49m\u001b[43m,\u001b[49m\u001b[43m \u001b[49m\u001b[43miteration\u001b[49m\u001b[38;5;241;43m=\u001b[39;49m\u001b[43mi\u001b[49m\u001b[43m,\u001b[49m\u001b[43m \u001b[49m\u001b[43mfobj\u001b[49m\u001b[38;5;241;43m=\u001b[39;49m\u001b[43mobj\u001b[49m\u001b[43m)\u001b[49m\n\u001b[1;32m    182\u001b[0m \u001b[38;5;28;01mif\u001b[39;00m cb_container\u001b[38;5;241m.\u001b[39mafter_iteration(bst, i, dtrain, evals):\n\u001b[1;32m    183\u001b[0m     \u001b[38;5;28;01mbreak\u001b[39;00m\n",
      "File \u001b[0;32m~/Documents/Competitions/qrt-competition/.venv/lib/python3.12/site-packages/xgboost/core.py:2100\u001b[0m, in \u001b[0;36mBooster.update\u001b[0;34m(self, dtrain, iteration, fobj)\u001b[0m\n\u001b[1;32m   2097\u001b[0m \u001b[38;5;28mself\u001b[39m\u001b[38;5;241m.\u001b[39m_assign_dmatrix_features(dtrain)\n\u001b[1;32m   2099\u001b[0m \u001b[38;5;28;01mif\u001b[39;00m fobj \u001b[38;5;129;01mis\u001b[39;00m \u001b[38;5;28;01mNone\u001b[39;00m:\n\u001b[0;32m-> 2100\u001b[0m     \u001b[43m_check_call\u001b[49m\u001b[43m(\u001b[49m\n\u001b[1;32m   2101\u001b[0m \u001b[43m        \u001b[49m\u001b[43m_LIB\u001b[49m\u001b[38;5;241;43m.\u001b[39;49m\u001b[43mXGBoosterUpdateOneIter\u001b[49m\u001b[43m(\u001b[49m\n\u001b[1;32m   2102\u001b[0m \u001b[43m            \u001b[49m\u001b[38;5;28;43mself\u001b[39;49m\u001b[38;5;241;43m.\u001b[39;49m\u001b[43mhandle\u001b[49m\u001b[43m,\u001b[49m\u001b[43m \u001b[49m\u001b[43mctypes\u001b[49m\u001b[38;5;241;43m.\u001b[39;49m\u001b[43mc_int\u001b[49m\u001b[43m(\u001b[49m\u001b[43miteration\u001b[49m\u001b[43m)\u001b[49m\u001b[43m,\u001b[49m\u001b[43m \u001b[49m\u001b[43mdtrain\u001b[49m\u001b[38;5;241;43m.\u001b[39;49m\u001b[43mhandle\u001b[49m\n\u001b[1;32m   2103\u001b[0m \u001b[43m        \u001b[49m\u001b[43m)\u001b[49m\n\u001b[1;32m   2104\u001b[0m \u001b[43m    \u001b[49m\u001b[43m)\u001b[49m\n\u001b[1;32m   2105\u001b[0m \u001b[38;5;28;01melse\u001b[39;00m:\n\u001b[1;32m   2106\u001b[0m     pred \u001b[38;5;241m=\u001b[39m \u001b[38;5;28mself\u001b[39m\u001b[38;5;241m.\u001b[39mpredict(dtrain, output_margin\u001b[38;5;241m=\u001b[39m\u001b[38;5;28;01mTrue\u001b[39;00m, training\u001b[38;5;241m=\u001b[39m\u001b[38;5;28;01mTrue\u001b[39;00m)\n",
      "File \u001b[0;32m~/Documents/Competitions/qrt-competition/.venv/lib/python3.12/site-packages/xgboost/core.py:284\u001b[0m, in \u001b[0;36m_check_call\u001b[0;34m(ret)\u001b[0m\n\u001b[1;32m    273\u001b[0m \u001b[38;5;250m\u001b[39m\u001b[38;5;124;03m\"\"\"Check the return value of C API call\u001b[39;00m\n\u001b[1;32m    274\u001b[0m \n\u001b[1;32m    275\u001b[0m \u001b[38;5;124;03mThis function will raise exception when error occurs.\u001b[39;00m\n\u001b[0;32m   (...)\u001b[0m\n\u001b[1;32m    281\u001b[0m \u001b[38;5;124;03m    return value from API calls\u001b[39;00m\n\u001b[1;32m    282\u001b[0m \u001b[38;5;124;03m\"\"\"\u001b[39;00m\n\u001b[1;32m    283\u001b[0m \u001b[38;5;28;01mif\u001b[39;00m ret \u001b[38;5;241m!=\u001b[39m \u001b[38;5;241m0\u001b[39m:\n\u001b[0;32m--> 284\u001b[0m     \u001b[38;5;28;01mraise\u001b[39;00m XGBoostError(py_str(_LIB\u001b[38;5;241m.\u001b[39mXGBGetLastError()))\n",
      "\u001b[0;31mXGBoostError\u001b[0m: [17:48:54] /Users/runner/work/xgboost/xgboost/src/objective/multiclass_obj.cu:111: SoftmaxMultiClassObj: label must be in [0, num_class).\nStack trace:\n  [bt] (0) 1   libxgboost.dylib                    0x000000017a8ece28 dmlc::LogMessageFatal::~LogMessageFatal() + 124\n  [bt] (1) 2   libxgboost.dylib                    0x000000017ab5942c xgboost::obj::SoftmaxMultiClassObj::GetGradient(xgboost::HostDeviceVector<float> const&, xgboost::MetaInfo const&, int, xgboost::linalg::Tensor<xgboost::detail::GradientPairInternal<float>, 2>*) + 684\n  [bt] (2) 3   libxgboost.dylib                    0x000000017aad36e4 xgboost::LearnerImpl::UpdateOneIter(int, std::__1::shared_ptr<xgboost::DMatrix>) + 692\n  [bt] (3) 4   libxgboost.dylib                    0x000000017a90e3e4 XGBoosterUpdateOneIter + 144\n  [bt] (4) 5   libffi.dylib                        0x00000001961a2050 ffi_call_SYSV + 80\n  [bt] (5) 6   libffi.dylib                        0x00000001961aaadc ffi_call_int + 1208\n  [bt] (6) 7   _ctypes.cpython-312-darwin.so       0x0000000106f979e8 _ctypes_callproc + 808\n  [bt] (7) 8   _ctypes.cpython-312-darwin.so       0x0000000106f90a14 PyCFuncPtr_call + 216\n  [bt] (8) 9   Python                              0x0000000104c2b4f0 _PyObject_MakeTpCall + 128\n\n"
     ]
    }
   ],
   "source": [
    "params_1 = {\n",
    "    'booster': 'gbtree',\n",
    "    'tree_method':'hist',\n",
    "    'max_depth': 8, \n",
    "    'learning_rate': 0.025,\n",
    "    'objective': 'multi:softprob',\n",
    "    'num_class': 3,\n",
    "    'eval_metric':'mlogloss'\n",
    "    }\n",
    "\n",
    "\n",
    "d_train = xgb.DMatrix(X_train.replace({0:np.nan}), y_train)\n",
    "d_valid = xgb.DMatrix(X_valid.replace({0:np.nan}), y_valid)\n",
    "\n",
    "num_round = 10000\n",
    "evallist = [(d_train, 'train'), (d_valid, 'eval')]\n",
    "\n",
    "bst = xgb.train(params_1, d_train, num_round, evallist, early_stopping_rounds=100)"
   ]
  },
  {
   "cell_type": "code",
   "execution_count": 53,
   "id": "df6385f5",
   "metadata": {},
   "outputs": [
    {
     "name": "stdout",
     "output_type": "stream",
     "text": [
      "Fitting 5 folds for each of 50 candidates, totalling 250 fits\n"
     ]
    },
    {
     "name": "stderr",
     "output_type": "stream",
     "text": [
      "/Users/gabriellima/Documents/Competitions/qrt-competition/.venv/lib/python3.12/site-packages/xgboost/core.py:158: UserWarning: [17:51:12] WARNING: /Users/runner/work/xgboost/xgboost/src/learner.cc:740: \n",
      "Parameters: { \"use_label_encoder\" } are not used.\n",
      "\n",
      "  warnings.warn(smsg, UserWarning)\n",
      "/Users/gabriellima/Documents/Competitions/qrt-competition/.venv/lib/python3.12/site-packages/xgboost/core.py:158: UserWarning: [17:51:12] WARNING: /Users/runner/work/xgboost/xgboost/src/learner.cc:740: \n",
      "Parameters: { \"use_label_encoder\" } are not used.\n",
      "\n",
      "  warnings.warn(smsg, UserWarning)\n",
      "/Users/gabriellima/Documents/Competitions/qrt-competition/.venv/lib/python3.12/site-packages/xgboost/core.py:158: UserWarning: [17:51:12] WARNING: /Users/runner/work/xgboost/xgboost/src/learner.cc:740: \n",
      "Parameters: { \"use_label_encoder\" } are not used.\n",
      "\n",
      "  warnings.warn(smsg, UserWarning)\n",
      "/Users/gabriellima/Documents/Competitions/qrt-competition/.venv/lib/python3.12/site-packages/xgboost/core.py:158: UserWarning: [17:51:12] WARNING: /Users/runner/work/xgboost/xgboost/src/learner.cc:740: \n",
      "Parameters: { \"use_label_encoder\" } are not used.\n",
      "\n",
      "  warnings.warn(smsg, UserWarning)\n",
      "/Users/gabriellima/Documents/Competitions/qrt-competition/.venv/lib/python3.12/site-packages/xgboost/core.py:158: UserWarning: [17:51:12] WARNING: /Users/runner/work/xgboost/xgboost/src/learner.cc:740: \n",
      "Parameters: { \"use_label_encoder\" } are not used.\n",
      "\n",
      "  warnings.warn(smsg, UserWarning)\n",
      "/Users/gabriellima/Documents/Competitions/qrt-competition/.venv/lib/python3.12/site-packages/xgboost/core.py:158: UserWarning: [17:51:12] WARNING: /Users/runner/work/xgboost/xgboost/src/learner.cc:740: \n",
      "Parameters: { \"use_label_encoder\" } are not used.\n",
      "\n",
      "  warnings.warn(smsg, UserWarning)\n",
      "/Users/gabriellima/Documents/Competitions/qrt-competition/.venv/lib/python3.12/site-packages/xgboost/core.py:158: UserWarning: [17:51:12] WARNING: /Users/runner/work/xgboost/xgboost/src/learner.cc:740: \n",
      "Parameters: { \"use_label_encoder\" } are not used.\n",
      "\n",
      "  warnings.warn(smsg, UserWarning)\n",
      "/Users/gabriellima/Documents/Competitions/qrt-competition/.venv/lib/python3.12/site-packages/xgboost/core.py:158: UserWarning: [17:51:12] WARNING: /Users/runner/work/xgboost/xgboost/src/learner.cc:740: \n",
      "Parameters: { \"use_label_encoder\" } are not used.\n",
      "\n",
      "  warnings.warn(smsg, UserWarning)\n"
     ]
    },
    {
     "name": "stdout",
     "output_type": "stream",
     "text": [
      "[CV] END colsample_bytree=1.0, gamma=0, learning_rate=0.05, max_depth=4, min_child_weight=5, n_estimators=500, subsample=0.8; total time=   5.6s\n",
      "[CV] END colsample_bytree=1.0, gamma=0, learning_rate=0.05, max_depth=4, min_child_weight=5, n_estimators=500, subsample=0.8; total time=   5.7s\n"
     ]
    },
    {
     "name": "stderr",
     "output_type": "stream",
     "text": [
      "/Users/gabriellima/Documents/Competitions/qrt-competition/.venv/lib/python3.12/site-packages/xgboost/core.py:158: UserWarning: [17:51:18] WARNING: /Users/runner/work/xgboost/xgboost/src/learner.cc:740: \n",
      "Parameters: { \"use_label_encoder\" } are not used.\n",
      "\n",
      "  warnings.warn(smsg, UserWarning)\n",
      "/Users/gabriellima/Documents/Competitions/qrt-competition/.venv/lib/python3.12/site-packages/xgboost/core.py:158: UserWarning: [17:51:18] WARNING: /Users/runner/work/xgboost/xgboost/src/learner.cc:740: \n",
      "Parameters: { \"use_label_encoder\" } are not used.\n",
      "\n",
      "  warnings.warn(smsg, UserWarning)\n"
     ]
    },
    {
     "name": "stdout",
     "output_type": "stream",
     "text": [
      "[CV] END colsample_bytree=1.0, gamma=0, learning_rate=0.05, max_depth=4, min_child_weight=5, n_estimators=500, subsample=0.8; total time=   5.9s\n"
     ]
    },
    {
     "name": "stderr",
     "output_type": "stream",
     "text": [
      "/Users/gabriellima/Documents/Competitions/qrt-competition/.venv/lib/python3.12/site-packages/xgboost/core.py:158: UserWarning: [17:51:18] WARNING: /Users/runner/work/xgboost/xgboost/src/learner.cc:740: \n",
      "Parameters: { \"use_label_encoder\" } are not used.\n",
      "\n",
      "  warnings.warn(smsg, UserWarning)\n"
     ]
    },
    {
     "name": "stdout",
     "output_type": "stream",
     "text": [
      "[CV] END colsample_bytree=1.0, gamma=0, learning_rate=0.05, max_depth=4, min_child_weight=5, n_estimators=500, subsample=0.8; total time=   5.5s\n",
      "[CV] END colsample_bytree=1.0, gamma=0, learning_rate=0.05, max_depth=4, min_child_weight=5, n_estimators=500, subsample=0.8; total time=   5.7s\n"
     ]
    },
    {
     "name": "stderr",
     "output_type": "stream",
     "text": [
      "/Users/gabriellima/Documents/Competitions/qrt-competition/.venv/lib/python3.12/site-packages/xgboost/core.py:158: UserWarning: [17:51:23] WARNING: /Users/runner/work/xgboost/xgboost/src/learner.cc:740: \n",
      "Parameters: { \"use_label_encoder\" } are not used.\n",
      "\n",
      "  warnings.warn(smsg, UserWarning)\n",
      "/Users/gabriellima/Documents/Competitions/qrt-competition/.venv/lib/python3.12/site-packages/xgboost/core.py:158: UserWarning: [17:51:23] WARNING: /Users/runner/work/xgboost/xgboost/src/learner.cc:740: \n",
      "Parameters: { \"use_label_encoder\" } are not used.\n",
      "\n",
      "  warnings.warn(smsg, UserWarning)\n"
     ]
    },
    {
     "name": "stdout",
     "output_type": "stream",
     "text": [
      "[CV] END colsample_bytree=0.6, gamma=0.1, learning_rate=0.025, max_depth=10, min_child_weight=5, n_estimators=1000, subsample=1.0; total time=  20.1s\n"
     ]
    },
    {
     "name": "stderr",
     "output_type": "stream",
     "text": [
      "/Users/gabriellima/Documents/Competitions/qrt-competition/.venv/lib/python3.12/site-packages/xgboost/core.py:158: UserWarning: [17:51:32] WARNING: /Users/runner/work/xgboost/xgboost/src/learner.cc:740: \n",
      "Parameters: { \"use_label_encoder\" } are not used.\n",
      "\n",
      "  warnings.warn(smsg, UserWarning)\n"
     ]
    },
    {
     "name": "stdout",
     "output_type": "stream",
     "text": [
      "[CV] END colsample_bytree=0.6, gamma=0.1, learning_rate=0.025, max_depth=10, min_child_weight=5, n_estimators=1000, subsample=1.0; total time=  20.8s\n",
      "[CV] END colsample_bytree=0.6, gamma=0.1, learning_rate=0.025, max_depth=10, min_child_weight=5, n_estimators=1000, subsample=1.0; total time=  20.8s\n",
      "[CV] END colsample_bytree=0.6, gamma=0.1, learning_rate=0.025, max_depth=10, min_child_weight=5, n_estimators=1000, subsample=1.0; total time=  20.9s\n",
      "[CV] END colsample_bytree=0.6, gamma=0.1, learning_rate=0.025, max_depth=10, min_child_weight=5, n_estimators=1000, subsample=1.0; total time=  20.8s\n"
     ]
    },
    {
     "name": "stderr",
     "output_type": "stream",
     "text": [
      "/Users/gabriellima/Documents/Competitions/qrt-competition/.venv/lib/python3.12/site-packages/xgboost/core.py:158: UserWarning: [17:51:33] WARNING: /Users/runner/work/xgboost/xgboost/src/learner.cc:740: \n",
      "Parameters: { \"use_label_encoder\" } are not used.\n",
      "\n",
      "  warnings.warn(smsg, UserWarning)\n",
      "/Users/gabriellima/Documents/Competitions/qrt-competition/.venv/lib/python3.12/site-packages/xgboost/core.py:158: UserWarning: [17:51:33] WARNING: /Users/runner/work/xgboost/xgboost/src/learner.cc:740: \n",
      "Parameters: { \"use_label_encoder\" } are not used.\n",
      "\n",
      "  warnings.warn(smsg, UserWarning)\n",
      "/Users/gabriellima/Documents/Competitions/qrt-competition/.venv/lib/python3.12/site-packages/xgboost/core.py:158: UserWarning: [17:51:33] WARNING: /Users/runner/work/xgboost/xgboost/src/learner.cc:740: \n",
      "Parameters: { \"use_label_encoder\" } are not used.\n",
      "\n",
      "  warnings.warn(smsg, UserWarning)\n",
      "/Users/gabriellima/Documents/Competitions/qrt-competition/.venv/lib/python3.12/site-packages/xgboost/core.py:158: UserWarning: [17:51:33] WARNING: /Users/runner/work/xgboost/xgboost/src/learner.cc:740: \n",
      "Parameters: { \"use_label_encoder\" } are not used.\n",
      "\n",
      "  warnings.warn(smsg, UserWarning)\n"
     ]
    },
    {
     "name": "stdout",
     "output_type": "stream",
     "text": [
      "[CV] END colsample_bytree=0.8, gamma=0.2, learning_rate=0.025, max_depth=6, min_child_weight=5, n_estimators=1000, subsample=1.0; total time=  15.8s\n"
     ]
    },
    {
     "name": "stderr",
     "output_type": "stream",
     "text": [
      "/Users/gabriellima/Documents/Competitions/qrt-competition/.venv/lib/python3.12/site-packages/xgboost/core.py:158: UserWarning: [17:51:34] WARNING: /Users/runner/work/xgboost/xgboost/src/learner.cc:740: \n",
      "Parameters: { \"use_label_encoder\" } are not used.\n",
      "\n",
      "  warnings.warn(smsg, UserWarning)\n"
     ]
    },
    {
     "name": "stdout",
     "output_type": "stream",
     "text": [
      "[CV] END colsample_bytree=0.8, gamma=0.2, learning_rate=0.025, max_depth=6, min_child_weight=5, n_estimators=1000, subsample=1.0; total time=  16.1s\n"
     ]
    },
    {
     "name": "stderr",
     "output_type": "stream",
     "text": [
      "/Users/gabriellima/Documents/Competitions/qrt-competition/.venv/lib/python3.12/site-packages/xgboost/core.py:158: UserWarning: [17:51:39] WARNING: /Users/runner/work/xgboost/xgboost/src/learner.cc:740: \n",
      "Parameters: { \"use_label_encoder\" } are not used.\n",
      "\n",
      "  warnings.warn(smsg, UserWarning)\n"
     ]
    },
    {
     "name": "stdout",
     "output_type": "stream",
     "text": [
      "[CV] END colsample_bytree=0.8, gamma=0.2, learning_rate=0.025, max_depth=6, min_child_weight=5, n_estimators=1000, subsample=1.0; total time=  16.6s\n"
     ]
    },
    {
     "name": "stderr",
     "output_type": "stream",
     "text": [
      "/Users/gabriellima/Documents/Competitions/qrt-competition/.venv/lib/python3.12/site-packages/xgboost/core.py:158: UserWarning: [17:51:40] WARNING: /Users/runner/work/xgboost/xgboost/src/learner.cc:740: \n",
      "Parameters: { \"use_label_encoder\" } are not used.\n",
      "\n",
      "  warnings.warn(smsg, UserWarning)\n"
     ]
    },
    {
     "name": "stdout",
     "output_type": "stream",
     "text": [
      "[CV] END colsample_bytree=0.8, gamma=0.2, learning_rate=0.025, max_depth=6, min_child_weight=5, n_estimators=1000, subsample=1.0; total time=  17.5s\n"
     ]
    },
    {
     "name": "stderr",
     "output_type": "stream",
     "text": [
      "/Users/gabriellima/Documents/Competitions/qrt-competition/.venv/lib/python3.12/site-packages/xgboost/core.py:158: UserWarning: [17:51:50] WARNING: /Users/runner/work/xgboost/xgboost/src/learner.cc:740: \n",
      "Parameters: { \"use_label_encoder\" } are not used.\n",
      "\n",
      "  warnings.warn(smsg, UserWarning)\n"
     ]
    },
    {
     "name": "stdout",
     "output_type": "stream",
     "text": [
      "[CV] END colsample_bytree=0.8, gamma=0.2, learning_rate=0.025, max_depth=6, min_child_weight=5, n_estimators=1000, subsample=1.0; total time=  18.0s\n"
     ]
    },
    {
     "name": "stderr",
     "output_type": "stream",
     "text": [
      "/Users/gabriellima/Documents/Competitions/qrt-competition/.venv/lib/python3.12/site-packages/xgboost/core.py:158: UserWarning: [17:51:51] WARNING: /Users/runner/work/xgboost/xgboost/src/learner.cc:740: \n",
      "Parameters: { \"use_label_encoder\" } are not used.\n",
      "\n",
      "  warnings.warn(smsg, UserWarning)\n"
     ]
    },
    {
     "name": "stdout",
     "output_type": "stream",
     "text": [
      "[CV] END colsample_bytree=0.6, gamma=0, learning_rate=0.1, max_depth=4, min_child_weight=5, n_estimators=2000, subsample=0.8; total time=  20.2s\n"
     ]
    },
    {
     "name": "stderr",
     "output_type": "stream",
     "text": [
      "/Users/gabriellima/Documents/Competitions/qrt-competition/.venv/lib/python3.12/site-packages/xgboost/core.py:158: UserWarning: [17:51:53] WARNING: /Users/runner/work/xgboost/xgboost/src/learner.cc:740: \n",
      "Parameters: { \"use_label_encoder\" } are not used.\n",
      "\n",
      "  warnings.warn(smsg, UserWarning)\n"
     ]
    },
    {
     "name": "stdout",
     "output_type": "stream",
     "text": [
      "[CV] END colsample_bytree=0.6, gamma=0, learning_rate=0.1, max_depth=4, min_child_weight=5, n_estimators=2000, subsample=0.8; total time=  20.7s\n",
      "[CV] END colsample_bytree=0.6, gamma=0, learning_rate=0.1, max_depth=4, min_child_weight=5, n_estimators=2000, subsample=0.8; total time=  20.8s\n"
     ]
    },
    {
     "name": "stderr",
     "output_type": "stream",
     "text": [
      "/Users/gabriellima/Documents/Competitions/qrt-competition/.venv/lib/python3.12/site-packages/xgboost/core.py:158: UserWarning: [17:51:54] WARNING: /Users/runner/work/xgboost/xgboost/src/learner.cc:740: \n",
      "Parameters: { \"use_label_encoder\" } are not used.\n",
      "\n",
      "  warnings.warn(smsg, UserWarning)\n",
      "/Users/gabriellima/Documents/Competitions/qrt-competition/.venv/lib/python3.12/site-packages/xgboost/core.py:158: UserWarning: [17:51:54] WARNING: /Users/runner/work/xgboost/xgboost/src/learner.cc:740: \n",
      "Parameters: { \"use_label_encoder\" } are not used.\n",
      "\n",
      "  warnings.warn(smsg, UserWarning)\n"
     ]
    },
    {
     "name": "stdout",
     "output_type": "stream",
     "text": [
      "[CV] END colsample_bytree=0.6, gamma=0, learning_rate=0.1, max_depth=4, min_child_weight=5, n_estimators=2000, subsample=0.8; total time=  21.0s\n"
     ]
    },
    {
     "name": "stderr",
     "output_type": "stream",
     "text": [
      "/Users/gabriellima/Documents/Competitions/qrt-competition/.venv/lib/python3.12/site-packages/xgboost/core.py:158: UserWarning: [17:51:55] WARNING: /Users/runner/work/xgboost/xgboost/src/learner.cc:740: \n",
      "Parameters: { \"use_label_encoder\" } are not used.\n",
      "\n",
      "  warnings.warn(smsg, UserWarning)\n"
     ]
    },
    {
     "name": "stdout",
     "output_type": "stream",
     "text": [
      "[CV] END colsample_bytree=0.8, gamma=0.2, learning_rate=0.1, max_depth=10, min_child_weight=5, n_estimators=100, subsample=0.6; total time=   4.9s\n"
     ]
    },
    {
     "name": "stderr",
     "output_type": "stream",
     "text": [
      "/Users/gabriellima/Documents/Competitions/qrt-competition/.venv/lib/python3.12/site-packages/xgboost/core.py:158: UserWarning: [17:51:59] WARNING: /Users/runner/work/xgboost/xgboost/src/learner.cc:740: \n",
      "Parameters: { \"use_label_encoder\" } are not used.\n",
      "\n",
      "  warnings.warn(smsg, UserWarning)\n"
     ]
    },
    {
     "name": "stdout",
     "output_type": "stream",
     "text": [
      "[CV] END colsample_bytree=0.8, gamma=0.2, learning_rate=0.1, max_depth=10, min_child_weight=5, n_estimators=100, subsample=0.6; total time=   5.1s\n"
     ]
    },
    {
     "name": "stderr",
     "output_type": "stream",
     "text": [
      "/Users/gabriellima/Documents/Competitions/qrt-competition/.venv/lib/python3.12/site-packages/xgboost/core.py:158: UserWarning: [17:52:00] WARNING: /Users/runner/work/xgboost/xgboost/src/learner.cc:740: \n",
      "Parameters: { \"use_label_encoder\" } are not used.\n",
      "\n",
      "  warnings.warn(smsg, UserWarning)\n"
     ]
    },
    {
     "name": "stdout",
     "output_type": "stream",
     "text": [
      "[CV] END colsample_bytree=0.6, gamma=0, learning_rate=0.1, max_depth=4, min_child_weight=5, n_estimators=2000, subsample=0.8; total time=  21.7s\n"
     ]
    },
    {
     "name": "stderr",
     "output_type": "stream",
     "text": [
      "/Users/gabriellima/Documents/Competitions/qrt-competition/.venv/lib/python3.12/site-packages/xgboost/core.py:158: UserWarning: [17:52:01] WARNING: /Users/runner/work/xgboost/xgboost/src/learner.cc:740: \n",
      "Parameters: { \"use_label_encoder\" } are not used.\n",
      "\n",
      "  warnings.warn(smsg, UserWarning)\n"
     ]
    },
    {
     "name": "stdout",
     "output_type": "stream",
     "text": [
      "[CV] END colsample_bytree=0.8, gamma=0.2, learning_rate=0.1, max_depth=10, min_child_weight=5, n_estimators=100, subsample=0.6; total time=   4.8s\n"
     ]
    },
    {
     "name": "stderr",
     "output_type": "stream",
     "text": [
      "/Users/gabriellima/Documents/Competitions/qrt-competition/.venv/lib/python3.12/site-packages/xgboost/core.py:158: UserWarning: [17:52:03] WARNING: /Users/runner/work/xgboost/xgboost/src/learner.cc:740: \n",
      "Parameters: { \"use_label_encoder\" } are not used.\n",
      "\n",
      "  warnings.warn(smsg, UserWarning)\n"
     ]
    },
    {
     "name": "stdout",
     "output_type": "stream",
     "text": [
      "[CV] END colsample_bytree=0.8, gamma=0.2, learning_rate=0.1, max_depth=10, min_child_weight=5, n_estimators=100, subsample=0.6; total time=   4.8s\n"
     ]
    },
    {
     "name": "stderr",
     "output_type": "stream",
     "text": [
      "/Users/gabriellima/Documents/Competitions/qrt-competition/.venv/lib/python3.12/site-packages/xgboost/core.py:158: UserWarning: [17:52:05] WARNING: /Users/runner/work/xgboost/xgboost/src/learner.cc:740: \n",
      "Parameters: { \"use_label_encoder\" } are not used.\n",
      "\n",
      "  warnings.warn(smsg, UserWarning)\n"
     ]
    },
    {
     "name": "stdout",
     "output_type": "stream",
     "text": [
      "[CV] END colsample_bytree=0.8, gamma=0.2, learning_rate=0.1, max_depth=10, min_child_weight=5, n_estimators=100, subsample=0.6; total time=   4.7s\n"
     ]
    },
    {
     "name": "stderr",
     "output_type": "stream",
     "text": [
      "/Users/gabriellima/Documents/Competitions/qrt-competition/.venv/lib/python3.12/site-packages/xgboost/core.py:158: UserWarning: [17:52:06] WARNING: /Users/runner/work/xgboost/xgboost/src/learner.cc:740: \n",
      "Parameters: { \"use_label_encoder\" } are not used.\n",
      "\n",
      "  warnings.warn(smsg, UserWarning)\n"
     ]
    },
    {
     "name": "stdout",
     "output_type": "stream",
     "text": [
      "[CV] END colsample_bytree=1.0, gamma=0.1, learning_rate=0.05, max_depth=8, min_child_weight=5, n_estimators=2000, subsample=0.8; total time=  26.8s\n"
     ]
    },
    {
     "name": "stderr",
     "output_type": "stream",
     "text": [
      "/Users/gabriellima/Documents/Competitions/qrt-competition/.venv/lib/python3.12/site-packages/xgboost/core.py:158: UserWarning: [17:52:07] WARNING: /Users/runner/work/xgboost/xgboost/src/learner.cc:740: \n",
      "Parameters: { \"use_label_encoder\" } are not used.\n",
      "\n",
      "  warnings.warn(smsg, UserWarning)\n"
     ]
    },
    {
     "name": "stdout",
     "output_type": "stream",
     "text": [
      "[CV] END colsample_bytree=0.8, gamma=0.2, learning_rate=0.05, max_depth=4, min_child_weight=1, n_estimators=500, subsample=0.6; total time=   6.4s\n"
     ]
    },
    {
     "name": "stderr",
     "output_type": "stream",
     "text": [
      "/Users/gabriellima/Documents/Competitions/qrt-competition/.venv/lib/python3.12/site-packages/xgboost/core.py:158: UserWarning: [17:52:10] WARNING: /Users/runner/work/xgboost/xgboost/src/learner.cc:740: \n",
      "Parameters: { \"use_label_encoder\" } are not used.\n",
      "\n",
      "  warnings.warn(smsg, UserWarning)\n"
     ]
    },
    {
     "name": "stdout",
     "output_type": "stream",
     "text": [
      "[CV] END colsample_bytree=0.8, gamma=0.2, learning_rate=0.05, max_depth=4, min_child_weight=1, n_estimators=500, subsample=0.6; total time=   6.5s\n"
     ]
    },
    {
     "name": "stderr",
     "output_type": "stream",
     "text": [
      "/Users/gabriellima/Documents/Competitions/qrt-competition/.venv/lib/python3.12/site-packages/xgboost/core.py:158: UserWarning: [17:52:11] WARNING: /Users/runner/work/xgboost/xgboost/src/learner.cc:740: \n",
      "Parameters: { \"use_label_encoder\" } are not used.\n",
      "\n",
      "  warnings.warn(smsg, UserWarning)\n"
     ]
    },
    {
     "name": "stdout",
     "output_type": "stream",
     "text": [
      "[CV] END colsample_bytree=0.8, gamma=0.2, learning_rate=0.05, max_depth=4, min_child_weight=1, n_estimators=500, subsample=0.6; total time=   6.4s\n"
     ]
    },
    {
     "name": "stderr",
     "output_type": "stream",
     "text": [
      "/Users/gabriellima/Documents/Competitions/qrt-competition/.venv/lib/python3.12/site-packages/xgboost/core.py:158: UserWarning: [17:52:12] WARNING: /Users/runner/work/xgboost/xgboost/src/learner.cc:740: \n",
      "Parameters: { \"use_label_encoder\" } are not used.\n",
      "\n",
      "  warnings.warn(smsg, UserWarning)\n"
     ]
    },
    {
     "name": "stdout",
     "output_type": "stream",
     "text": [
      "[CV] END colsample_bytree=0.8, gamma=0.2, learning_rate=0.05, max_depth=4, min_child_weight=1, n_estimators=500, subsample=0.6; total time=   6.4s\n"
     ]
    },
    {
     "name": "stderr",
     "output_type": "stream",
     "text": [
      "/Users/gabriellima/Documents/Competitions/qrt-competition/.venv/lib/python3.12/site-packages/xgboost/core.py:158: UserWarning: [17:52:13] WARNING: /Users/runner/work/xgboost/xgboost/src/learner.cc:740: \n",
      "Parameters: { \"use_label_encoder\" } are not used.\n",
      "\n",
      "  warnings.warn(smsg, UserWarning)\n"
     ]
    },
    {
     "name": "stdout",
     "output_type": "stream",
     "text": [
      "[CV] END colsample_bytree=0.8, gamma=0.2, learning_rate=0.05, max_depth=4, min_child_weight=1, n_estimators=500, subsample=0.6; total time=   6.6s\n"
     ]
    },
    {
     "name": "stderr",
     "output_type": "stream",
     "text": [
      "/Users/gabriellima/Documents/Competitions/qrt-competition/.venv/lib/python3.12/site-packages/xgboost/core.py:158: UserWarning: [17:52:16] WARNING: /Users/runner/work/xgboost/xgboost/src/learner.cc:740: \n",
      "Parameters: { \"use_label_encoder\" } are not used.\n",
      "\n",
      "  warnings.warn(smsg, UserWarning)\n"
     ]
    },
    {
     "name": "stdout",
     "output_type": "stream",
     "text": [
      "[CV] END colsample_bytree=1.0, gamma=0.1, learning_rate=0.05, max_depth=8, min_child_weight=5, n_estimators=2000, subsample=0.8; total time=  27.1s\n"
     ]
    },
    {
     "name": "stderr",
     "output_type": "stream",
     "text": [
      "/Users/gabriellima/Documents/Competitions/qrt-competition/.venv/lib/python3.12/site-packages/xgboost/core.py:158: UserWarning: [17:52:17] WARNING: /Users/runner/work/xgboost/xgboost/src/learner.cc:740: \n",
      "Parameters: { \"use_label_encoder\" } are not used.\n",
      "\n",
      "  warnings.warn(smsg, UserWarning)\n"
     ]
    },
    {
     "name": "stdout",
     "output_type": "stream",
     "text": [
      "[CV] END colsample_bytree=1.0, gamma=0.1, learning_rate=0.05, max_depth=8, min_child_weight=5, n_estimators=2000, subsample=0.8; total time=  27.4s\n"
     ]
    },
    {
     "name": "stderr",
     "output_type": "stream",
     "text": [
      "/Users/gabriellima/Documents/Competitions/qrt-competition/.venv/lib/python3.12/site-packages/xgboost/core.py:158: UserWarning: [17:52:18] WARNING: /Users/runner/work/xgboost/xgboost/src/learner.cc:740: \n",
      "Parameters: { \"use_label_encoder\" } are not used.\n",
      "\n",
      "  warnings.warn(smsg, UserWarning)\n"
     ]
    },
    {
     "name": "stdout",
     "output_type": "stream",
     "text": [
      "[CV] END colsample_bytree=1.0, gamma=0.1, learning_rate=0.05, max_depth=8, min_child_weight=5, n_estimators=2000, subsample=0.8; total time=  27.1s\n"
     ]
    },
    {
     "name": "stderr",
     "output_type": "stream",
     "text": [
      "/Users/gabriellima/Documents/Competitions/qrt-competition/.venv/lib/python3.12/site-packages/xgboost/core.py:158: UserWarning: [17:52:20] WARNING: /Users/runner/work/xgboost/xgboost/src/learner.cc:740: \n",
      "Parameters: { \"use_label_encoder\" } are not used.\n",
      "\n",
      "  warnings.warn(smsg, UserWarning)\n"
     ]
    },
    {
     "name": "stdout",
     "output_type": "stream",
     "text": [
      "[CV] END colsample_bytree=1.0, gamma=0.1, learning_rate=0.05, max_depth=8, min_child_weight=5, n_estimators=2000, subsample=0.8; total time=  27.4s\n"
     ]
    },
    {
     "name": "stderr",
     "output_type": "stream",
     "text": [
      "/Users/gabriellima/Documents/Competitions/qrt-competition/.venv/lib/python3.12/site-packages/xgboost/core.py:158: UserWarning: [17:52:21] WARNING: /Users/runner/work/xgboost/xgboost/src/learner.cc:740: \n",
      "Parameters: { \"use_label_encoder\" } are not used.\n",
      "\n",
      "  warnings.warn(smsg, UserWarning)\n"
     ]
    },
    {
     "name": "stdout",
     "output_type": "stream",
     "text": [
      "[CV] END colsample_bytree=0.8, gamma=0.2, learning_rate=0.01, max_depth=6, min_child_weight=1, n_estimators=500, subsample=0.6; total time=  13.3s\n"
     ]
    },
    {
     "name": "stderr",
     "output_type": "stream",
     "text": [
      "/Users/gabriellima/Documents/Competitions/qrt-competition/.venv/lib/python3.12/site-packages/xgboost/core.py:158: UserWarning: [17:52:25] WARNING: /Users/runner/work/xgboost/xgboost/src/learner.cc:740: \n",
      "Parameters: { \"use_label_encoder\" } are not used.\n",
      "\n",
      "  warnings.warn(smsg, UserWarning)\n"
     ]
    },
    {
     "name": "stdout",
     "output_type": "stream",
     "text": [
      "[CV] END colsample_bytree=0.8, gamma=0.2, learning_rate=0.01, max_depth=6, min_child_weight=1, n_estimators=500, subsample=0.6; total time=  13.2s\n"
     ]
    },
    {
     "name": "stderr",
     "output_type": "stream",
     "text": [
      "/Users/gabriellima/Documents/Competitions/qrt-competition/.venv/lib/python3.12/site-packages/xgboost/core.py:158: UserWarning: [17:52:26] WARNING: /Users/runner/work/xgboost/xgboost/src/learner.cc:740: \n",
      "Parameters: { \"use_label_encoder\" } are not used.\n",
      "\n",
      "  warnings.warn(smsg, UserWarning)\n"
     ]
    },
    {
     "name": "stdout",
     "output_type": "stream",
     "text": [
      "[CV] END colsample_bytree=0.8, gamma=0.2, learning_rate=0.01, max_depth=6, min_child_weight=1, n_estimators=500, subsample=0.6; total time=  13.3s\n"
     ]
    },
    {
     "name": "stderr",
     "output_type": "stream",
     "text": [
      "/Users/gabriellima/Documents/Competitions/qrt-competition/.venv/lib/python3.12/site-packages/xgboost/core.py:158: UserWarning: [17:52:26] WARNING: /Users/runner/work/xgboost/xgboost/src/learner.cc:740: \n",
      "Parameters: { \"use_label_encoder\" } are not used.\n",
      "\n",
      "  warnings.warn(smsg, UserWarning)\n"
     ]
    },
    {
     "name": "stdout",
     "output_type": "stream",
     "text": [
      "[CV] END colsample_bytree=0.8, gamma=0.2, learning_rate=0.01, max_depth=6, min_child_weight=1, n_estimators=500, subsample=0.6; total time=  13.2s\n",
      "[CV] END colsample_bytree=0.8, gamma=0.2, learning_rate=0.01, max_depth=6, min_child_weight=1, n_estimators=500, subsample=0.6; total time=  12.9s\n"
     ]
    },
    {
     "name": "stderr",
     "output_type": "stream",
     "text": [
      "/Users/gabriellima/Documents/Competitions/qrt-competition/.venv/lib/python3.12/site-packages/xgboost/core.py:158: UserWarning: [17:52:30] WARNING: /Users/runner/work/xgboost/xgboost/src/learner.cc:740: \n",
      "Parameters: { \"use_label_encoder\" } are not used.\n",
      "\n",
      "  warnings.warn(smsg, UserWarning)\n",
      "/Users/gabriellima/Documents/Competitions/qrt-competition/.venv/lib/python3.12/site-packages/xgboost/core.py:158: UserWarning: [17:52:30] WARNING: /Users/runner/work/xgboost/xgboost/src/learner.cc:740: \n",
      "Parameters: { \"use_label_encoder\" } are not used.\n",
      "\n",
      "  warnings.warn(smsg, UserWarning)\n"
     ]
    },
    {
     "name": "stdout",
     "output_type": "stream",
     "text": [
      "[CV] END colsample_bytree=0.6, gamma=0.2, learning_rate=0.1, max_depth=8, min_child_weight=5, n_estimators=500, subsample=1.0; total time=   5.7s\n"
     ]
    },
    {
     "name": "stderr",
     "output_type": "stream",
     "text": [
      "/Users/gabriellima/Documents/Competitions/qrt-competition/.venv/lib/python3.12/site-packages/xgboost/core.py:158: UserWarning: [17:52:32] WARNING: /Users/runner/work/xgboost/xgboost/src/learner.cc:740: \n",
      "Parameters: { \"use_label_encoder\" } are not used.\n",
      "\n",
      "  warnings.warn(smsg, UserWarning)\n"
     ]
    },
    {
     "name": "stdout",
     "output_type": "stream",
     "text": [
      "[CV] END colsample_bytree=0.6, gamma=0.2, learning_rate=0.1, max_depth=8, min_child_weight=5, n_estimators=500, subsample=1.0; total time=   5.8s\n",
      "[CV] END colsample_bytree=0.6, gamma=0.2, learning_rate=0.1, max_depth=8, min_child_weight=5, n_estimators=500, subsample=1.0; total time=   5.8s\n"
     ]
    },
    {
     "name": "stderr",
     "output_type": "stream",
     "text": [
      "/Users/gabriellima/Documents/Competitions/qrt-competition/.venv/lib/python3.12/site-packages/xgboost/core.py:158: UserWarning: [17:52:35] WARNING: /Users/runner/work/xgboost/xgboost/src/learner.cc:740: \n",
      "Parameters: { \"use_label_encoder\" } are not used.\n",
      "\n",
      "  warnings.warn(smsg, UserWarning)\n",
      "/Users/gabriellima/Documents/Competitions/qrt-competition/.venv/lib/python3.12/site-packages/xgboost/core.py:158: UserWarning: [17:52:36] WARNING: /Users/runner/work/xgboost/xgboost/src/learner.cc:740: \n",
      "Parameters: { \"use_label_encoder\" } are not used.\n",
      "\n",
      "  warnings.warn(smsg, UserWarning)\n"
     ]
    },
    {
     "name": "stdout",
     "output_type": "stream",
     "text": [
      "[CV] END colsample_bytree=0.6, gamma=0.2, learning_rate=0.1, max_depth=8, min_child_weight=5, n_estimators=500, subsample=1.0; total time=   5.9s\n",
      "[CV] END colsample_bytree=0.6, gamma=0.1, learning_rate=0.025, max_depth=6, min_child_weight=3, n_estimators=100, subsample=0.8; total time=   2.6s\n"
     ]
    },
    {
     "name": "stderr",
     "output_type": "stream",
     "text": [
      "/Users/gabriellima/Documents/Competitions/qrt-competition/.venv/lib/python3.12/site-packages/xgboost/core.py:158: UserWarning: [17:52:38] WARNING: /Users/runner/work/xgboost/xgboost/src/learner.cc:740: \n",
      "Parameters: { \"use_label_encoder\" } are not used.\n",
      "\n",
      "  warnings.warn(smsg, UserWarning)\n",
      "/Users/gabriellima/Documents/Competitions/qrt-competition/.venv/lib/python3.12/site-packages/xgboost/core.py:158: UserWarning: [17:52:38] WARNING: /Users/runner/work/xgboost/xgboost/src/learner.cc:740: \n",
      "Parameters: { \"use_label_encoder\" } are not used.\n",
      "\n",
      "  warnings.warn(smsg, UserWarning)\n"
     ]
    },
    {
     "name": "stdout",
     "output_type": "stream",
     "text": [
      "[CV] END colsample_bytree=0.6, gamma=0.1, learning_rate=0.025, max_depth=6, min_child_weight=3, n_estimators=100, subsample=0.8; total time=   2.4s\n",
      "[CV] END colsample_bytree=0.6, gamma=0.1, learning_rate=0.025, max_depth=6, min_child_weight=3, n_estimators=100, subsample=0.8; total time=   2.5s\n"
     ]
    },
    {
     "name": "stderr",
     "output_type": "stream",
     "text": [
      "/Users/gabriellima/Documents/Competitions/qrt-competition/.venv/lib/python3.12/site-packages/xgboost/core.py:158: UserWarning: [17:52:40] WARNING: /Users/runner/work/xgboost/xgboost/src/learner.cc:740: \n",
      "Parameters: { \"use_label_encoder\" } are not used.\n",
      "\n",
      "  warnings.warn(smsg, UserWarning)\n",
      "/Users/gabriellima/Documents/Competitions/qrt-competition/.venv/lib/python3.12/site-packages/xgboost/core.py:158: UserWarning: [17:52:41] WARNING: /Users/runner/work/xgboost/xgboost/src/learner.cc:740: \n",
      "Parameters: { \"use_label_encoder\" } are not used.\n",
      "\n",
      "  warnings.warn(smsg, UserWarning)\n"
     ]
    },
    {
     "name": "stdout",
     "output_type": "stream",
     "text": [
      "[CV] END colsample_bytree=0.6, gamma=0.2, learning_rate=0.1, max_depth=8, min_child_weight=5, n_estimators=500, subsample=1.0; total time=   6.1s\n"
     ]
    },
    {
     "name": "stderr",
     "output_type": "stream",
     "text": [
      "/Users/gabriellima/Documents/Competitions/qrt-competition/.venv/lib/python3.12/site-packages/xgboost/core.py:158: UserWarning: [17:52:42] WARNING: /Users/runner/work/xgboost/xgboost/src/learner.cc:740: \n",
      "Parameters: { \"use_label_encoder\" } are not used.\n",
      "\n",
      "  warnings.warn(smsg, UserWarning)\n"
     ]
    },
    {
     "name": "stdout",
     "output_type": "stream",
     "text": [
      "[CV] END colsample_bytree=0.6, gamma=0.1, learning_rate=0.025, max_depth=6, min_child_weight=3, n_estimators=100, subsample=0.8; total time=   2.6s\n",
      "[CV] END colsample_bytree=0.6, gamma=0.1, learning_rate=0.025, max_depth=6, min_child_weight=3, n_estimators=100, subsample=0.8; total time=   2.5s\n"
     ]
    },
    {
     "name": "stderr",
     "output_type": "stream",
     "text": [
      "/Users/gabriellima/Documents/Competitions/qrt-competition/.venv/lib/python3.12/site-packages/xgboost/core.py:158: UserWarning: [17:52:43] WARNING: /Users/runner/work/xgboost/xgboost/src/learner.cc:740: \n",
      "Parameters: { \"use_label_encoder\" } are not used.\n",
      "\n",
      "  warnings.warn(smsg, UserWarning)\n",
      "/Users/gabriellima/Documents/Competitions/qrt-competition/.venv/lib/python3.12/site-packages/xgboost/core.py:158: UserWarning: [17:52:43] WARNING: /Users/runner/work/xgboost/xgboost/src/learner.cc:740: \n",
      "Parameters: { \"use_label_encoder\" } are not used.\n",
      "\n",
      "  warnings.warn(smsg, UserWarning)\n"
     ]
    },
    {
     "name": "stdout",
     "output_type": "stream",
     "text": [
      "[CV] END colsample_bytree=0.8, gamma=0.1, learning_rate=0.01, max_depth=8, min_child_weight=3, n_estimators=500, subsample=0.6; total time=  22.5s\n"
     ]
    },
    {
     "name": "stderr",
     "output_type": "stream",
     "text": [
      "/Users/gabriellima/Documents/Competitions/qrt-competition/.venv/lib/python3.12/site-packages/xgboost/core.py:158: UserWarning: [17:53:04] WARNING: /Users/runner/work/xgboost/xgboost/src/learner.cc:740: \n",
      "Parameters: { \"use_label_encoder\" } are not used.\n",
      "\n",
      "  warnings.warn(smsg, UserWarning)\n"
     ]
    },
    {
     "name": "stdout",
     "output_type": "stream",
     "text": [
      "[CV] END colsample_bytree=0.8, gamma=0.1, learning_rate=0.01, max_depth=8, min_child_weight=3, n_estimators=500, subsample=0.6; total time=  23.1s\n"
     ]
    },
    {
     "name": "stderr",
     "output_type": "stream",
     "text": [
      "/Users/gabriellima/Documents/Competitions/qrt-competition/.venv/lib/python3.12/site-packages/xgboost/core.py:158: UserWarning: [17:53:06] WARNING: /Users/runner/work/xgboost/xgboost/src/learner.cc:740: \n",
      "Parameters: { \"use_label_encoder\" } are not used.\n",
      "\n",
      "  warnings.warn(smsg, UserWarning)\n"
     ]
    },
    {
     "name": "stdout",
     "output_type": "stream",
     "text": [
      "[CV] END colsample_bytree=0.8, gamma=0.1, learning_rate=0.01, max_depth=8, min_child_weight=3, n_estimators=500, subsample=0.6; total time=  23.2s\n"
     ]
    },
    {
     "name": "stderr",
     "output_type": "stream",
     "text": [
      "/Users/gabriellima/Documents/Competitions/qrt-competition/.venv/lib/python3.12/site-packages/xgboost/core.py:158: UserWarning: [17:53:06] WARNING: /Users/runner/work/xgboost/xgboost/src/learner.cc:740: \n",
      "Parameters: { \"use_label_encoder\" } are not used.\n",
      "\n",
      "  warnings.warn(smsg, UserWarning)\n"
     ]
    },
    {
     "name": "stdout",
     "output_type": "stream",
     "text": [
      "[CV] END colsample_bytree=0.8, gamma=0.1, learning_rate=0.01, max_depth=8, min_child_weight=3, n_estimators=500, subsample=0.6; total time=  22.3s\n"
     ]
    },
    {
     "name": "stderr",
     "output_type": "stream",
     "text": [
      "/Users/gabriellima/Documents/Competitions/qrt-competition/.venv/lib/python3.12/site-packages/xgboost/core.py:158: UserWarning: [17:53:26] WARNING: /Users/runner/work/xgboost/xgboost/src/learner.cc:740: \n",
      "Parameters: { \"use_label_encoder\" } are not used.\n",
      "\n",
      "  warnings.warn(smsg, UserWarning)\n"
     ]
    },
    {
     "name": "stdout",
     "output_type": "stream",
     "text": [
      "[CV] END colsample_bytree=0.8, gamma=0.1, learning_rate=0.01, max_depth=8, min_child_weight=3, n_estimators=500, subsample=0.6; total time=  22.6s\n"
     ]
    },
    {
     "name": "stderr",
     "output_type": "stream",
     "text": [
      "/Users/gabriellima/Documents/Competitions/qrt-competition/.venv/lib/python3.12/site-packages/xgboost/core.py:158: UserWarning: [17:53:29] WARNING: /Users/runner/work/xgboost/xgboost/src/learner.cc:740: \n",
      "Parameters: { \"use_label_encoder\" } are not used.\n",
      "\n",
      "  warnings.warn(smsg, UserWarning)\n"
     ]
    },
    {
     "name": "stdout",
     "output_type": "stream",
     "text": [
      "[CV] END colsample_bytree=0.6, gamma=0, learning_rate=0.01, max_depth=10, min_child_weight=3, n_estimators=2000, subsample=0.8; total time= 1.5min\n"
     ]
    },
    {
     "name": "stderr",
     "output_type": "stream",
     "text": [
      "/Users/gabriellima/Documents/Competitions/qrt-competition/.venv/lib/python3.12/site-packages/xgboost/core.py:158: UserWarning: [17:53:49] WARNING: /Users/runner/work/xgboost/xgboost/src/learner.cc:740: \n",
      "Parameters: { \"use_label_encoder\" } are not used.\n",
      "\n",
      "  warnings.warn(smsg, UserWarning)\n"
     ]
    },
    {
     "name": "stdout",
     "output_type": "stream",
     "text": [
      "[CV] END colsample_bytree=0.6, gamma=0, learning_rate=0.01, max_depth=10, min_child_weight=3, n_estimators=2000, subsample=0.8; total time= 1.5min\n",
      "[CV] END colsample_bytree=0.6, gamma=0, learning_rate=0.01, max_depth=10, min_child_weight=3, n_estimators=2000, subsample=0.8; total time= 1.5min\n"
     ]
    },
    {
     "name": "stderr",
     "output_type": "stream",
     "text": [
      "/Users/gabriellima/Documents/Competitions/qrt-competition/.venv/lib/python3.12/site-packages/xgboost/core.py:158: UserWarning: [17:53:54] WARNING: /Users/runner/work/xgboost/xgboost/src/learner.cc:740: \n",
      "Parameters: { \"use_label_encoder\" } are not used.\n",
      "\n",
      "  warnings.warn(smsg, UserWarning)\n",
      "/Users/gabriellima/Documents/Competitions/qrt-competition/.venv/lib/python3.12/site-packages/xgboost/core.py:158: UserWarning: [17:53:56] WARNING: /Users/runner/work/xgboost/xgboost/src/learner.cc:740: \n",
      "Parameters: { \"use_label_encoder\" } are not used.\n",
      "\n",
      "  warnings.warn(smsg, UserWarning)\n"
     ]
    },
    {
     "name": "stdout",
     "output_type": "stream",
     "text": [
      "[CV] END colsample_bytree=0.6, gamma=0, learning_rate=0.01, max_depth=10, min_child_weight=3, n_estimators=2000, subsample=0.8; total time= 1.6min\n",
      "[CV] END colsample_bytree=0.6, gamma=0, learning_rate=0.01, max_depth=10, min_child_weight=3, n_estimators=2000, subsample=0.8; total time= 1.6min\n"
     ]
    },
    {
     "name": "stderr",
     "output_type": "stream",
     "text": [
      "/Users/gabriellima/Documents/Competitions/qrt-competition/.venv/lib/python3.12/site-packages/xgboost/core.py:158: UserWarning: [17:54:04] WARNING: /Users/runner/work/xgboost/xgboost/src/learner.cc:740: \n",
      "Parameters: { \"use_label_encoder\" } are not used.\n",
      "\n",
      "  warnings.warn(smsg, UserWarning)\n",
      "/Users/gabriellima/Documents/Competitions/qrt-competition/.venv/lib/python3.12/site-packages/xgboost/core.py:158: UserWarning: [17:54:06] WARNING: /Users/runner/work/xgboost/xgboost/src/learner.cc:740: \n",
      "Parameters: { \"use_label_encoder\" } are not used.\n",
      "\n",
      "  warnings.warn(smsg, UserWarning)\n"
     ]
    },
    {
     "name": "stdout",
     "output_type": "stream",
     "text": [
      "[CV] END colsample_bytree=1.0, gamma=0.2, learning_rate=0.1, max_depth=4, min_child_weight=1, n_estimators=2000, subsample=1.0; total time=  26.1s\n"
     ]
    },
    {
     "name": "stderr",
     "output_type": "stream",
     "text": [
      "/Users/gabriellima/Documents/Competitions/qrt-competition/.venv/lib/python3.12/site-packages/xgboost/core.py:158: UserWarning: [17:54:23] WARNING: /Users/runner/work/xgboost/xgboost/src/learner.cc:740: \n",
      "Parameters: { \"use_label_encoder\" } are not used.\n",
      "\n",
      "  warnings.warn(smsg, UserWarning)\n"
     ]
    },
    {
     "name": "stdout",
     "output_type": "stream",
     "text": [
      "[CV] END colsample_bytree=1.0, gamma=0.2, learning_rate=0.1, max_depth=4, min_child_weight=1, n_estimators=2000, subsample=1.0; total time=  26.5s\n"
     ]
    },
    {
     "name": "stderr",
     "output_type": "stream",
     "text": [
      "/Users/gabriellima/Documents/Competitions/qrt-competition/.venv/lib/python3.12/site-packages/xgboost/core.py:158: UserWarning: [17:54:31] WARNING: /Users/runner/work/xgboost/xgboost/src/learner.cc:740: \n",
      "Parameters: { \"use_label_encoder\" } are not used.\n",
      "\n",
      "  warnings.warn(smsg, UserWarning)\n"
     ]
    },
    {
     "name": "stdout",
     "output_type": "stream",
     "text": [
      "[CV] END colsample_bytree=1.0, gamma=0.2, learning_rate=0.1, max_depth=4, min_child_weight=1, n_estimators=2000, subsample=1.0; total time=  26.6s\n"
     ]
    },
    {
     "name": "stderr",
     "output_type": "stream",
     "text": [
      "/Users/gabriellima/Documents/Competitions/qrt-competition/.venv/lib/python3.12/site-packages/xgboost/core.py:158: UserWarning: [17:54:32] WARNING: /Users/runner/work/xgboost/xgboost/src/learner.cc:740: \n",
      "Parameters: { \"use_label_encoder\" } are not used.\n",
      "\n",
      "  warnings.warn(smsg, UserWarning)\n"
     ]
    },
    {
     "name": "stdout",
     "output_type": "stream",
     "text": [
      "[CV] END colsample_bytree=1.0, gamma=0.2, learning_rate=0.1, max_depth=4, min_child_weight=1, n_estimators=2000, subsample=1.0; total time=  27.1s\n"
     ]
    },
    {
     "name": "stderr",
     "output_type": "stream",
     "text": [
      "/Users/gabriellima/Documents/Competitions/qrt-competition/.venv/lib/python3.12/site-packages/xgboost/core.py:158: UserWarning: [17:54:50] WARNING: /Users/runner/work/xgboost/xgboost/src/learner.cc:740: \n",
      "Parameters: { \"use_label_encoder\" } are not used.\n",
      "\n",
      "  warnings.warn(smsg, UserWarning)\n"
     ]
    },
    {
     "name": "stdout",
     "output_type": "stream",
     "text": [
      "[CV] END colsample_bytree=0.6, gamma=0.2, learning_rate=0.01, max_depth=4, min_child_weight=5, n_estimators=1000, subsample=1.0; total time=  22.8s\n"
     ]
    },
    {
     "name": "stderr",
     "output_type": "stream",
     "text": [
      "/Users/gabriellima/Documents/Competitions/qrt-competition/.venv/lib/python3.12/site-packages/xgboost/core.py:158: UserWarning: [17:54:55] WARNING: /Users/runner/work/xgboost/xgboost/src/learner.cc:740: \n",
      "Parameters: { \"use_label_encoder\" } are not used.\n",
      "\n",
      "  warnings.warn(smsg, UserWarning)\n"
     ]
    },
    {
     "name": "stdout",
     "output_type": "stream",
     "text": [
      "[CV] END colsample_bytree=1.0, gamma=0.2, learning_rate=0.1, max_depth=4, min_child_weight=1, n_estimators=2000, subsample=1.0; total time=  26.9s\n"
     ]
    },
    {
     "name": "stderr",
     "output_type": "stream",
     "text": [
      "/Users/gabriellima/Documents/Competitions/qrt-competition/.venv/lib/python3.12/site-packages/xgboost/core.py:158: UserWarning: [17:54:58] WARNING: /Users/runner/work/xgboost/xgboost/src/learner.cc:740: \n",
      "Parameters: { \"use_label_encoder\" } are not used.\n",
      "\n",
      "  warnings.warn(smsg, UserWarning)\n"
     ]
    },
    {
     "name": "stdout",
     "output_type": "stream",
     "text": [
      "[CV] END colsample_bytree=0.6, gamma=0.2, learning_rate=0.01, max_depth=4, min_child_weight=5, n_estimators=1000, subsample=1.0; total time=  22.8s\n"
     ]
    },
    {
     "name": "stderr",
     "output_type": "stream",
     "text": [
      "/Users/gabriellima/Documents/Competitions/qrt-competition/.venv/lib/python3.12/site-packages/xgboost/core.py:158: UserWarning: [17:55:13] WARNING: /Users/runner/work/xgboost/xgboost/src/learner.cc:740: \n",
      "Parameters: { \"use_label_encoder\" } are not used.\n",
      "\n",
      "  warnings.warn(smsg, UserWarning)\n"
     ]
    },
    {
     "name": "stdout",
     "output_type": "stream",
     "text": [
      "[CV] END colsample_bytree=0.6, gamma=0.2, learning_rate=0.01, max_depth=4, min_child_weight=5, n_estimators=1000, subsample=1.0; total time=  22.6s\n"
     ]
    },
    {
     "name": "stderr",
     "output_type": "stream",
     "text": [
      "/Users/gabriellima/Documents/Competitions/qrt-competition/.venv/lib/python3.12/site-packages/xgboost/core.py:158: UserWarning: [17:55:18] WARNING: /Users/runner/work/xgboost/xgboost/src/learner.cc:740: \n",
      "Parameters: { \"use_label_encoder\" } are not used.\n",
      "\n",
      "  warnings.warn(smsg, UserWarning)\n"
     ]
    },
    {
     "name": "stdout",
     "output_type": "stream",
     "text": [
      "[CV] END colsample_bytree=0.6, gamma=0.2, learning_rate=0.01, max_depth=4, min_child_weight=5, n_estimators=1000, subsample=1.0; total time=  23.2s\n"
     ]
    },
    {
     "name": "stderr",
     "output_type": "stream",
     "text": [
      "/Users/gabriellima/Documents/Competitions/qrt-competition/.venv/lib/python3.12/site-packages/xgboost/core.py:158: UserWarning: [17:55:21] WARNING: /Users/runner/work/xgboost/xgboost/src/learner.cc:740: \n",
      "Parameters: { \"use_label_encoder\" } are not used.\n",
      "\n",
      "  warnings.warn(smsg, UserWarning)\n"
     ]
    },
    {
     "name": "stdout",
     "output_type": "stream",
     "text": [
      "[CV] END colsample_bytree=0.8, gamma=0.1, learning_rate=0.01, max_depth=10, min_child_weight=3, n_estimators=2000, subsample=0.6; total time= 2.5min\n",
      "[CV] END colsample_bytree=0.6, gamma=0.2, learning_rate=0.01, max_depth=4, min_child_weight=5, n_estimators=1000, subsample=1.0; total time=  22.2s\n"
     ]
    },
    {
     "name": "stderr",
     "output_type": "stream",
     "text": [
      "/Users/gabriellima/Documents/Competitions/qrt-competition/.venv/lib/python3.12/site-packages/xgboost/core.py:158: UserWarning: [17:55:35] WARNING: /Users/runner/work/xgboost/xgboost/src/learner.cc:740: \n",
      "Parameters: { \"use_label_encoder\" } are not used.\n",
      "\n",
      "  warnings.warn(smsg, UserWarning)\n",
      "/Users/gabriellima/Documents/Competitions/qrt-competition/.venv/lib/python3.12/site-packages/xgboost/core.py:158: UserWarning: [17:55:37] WARNING: /Users/runner/work/xgboost/xgboost/src/learner.cc:740: \n",
      "Parameters: { \"use_label_encoder\" } are not used.\n",
      "\n",
      "  warnings.warn(smsg, UserWarning)\n"
     ]
    },
    {
     "name": "stdout",
     "output_type": "stream",
     "text": [
      "[CV] END colsample_bytree=1.0, gamma=0.1, learning_rate=0.1, max_depth=8, min_child_weight=3, n_estimators=1000, subsample=0.8; total time=  27.2s\n"
     ]
    },
    {
     "name": "stderr",
     "output_type": "stream",
     "text": [
      "/Users/gabriellima/Documents/Competitions/qrt-competition/.venv/lib/python3.12/site-packages/xgboost/core.py:158: UserWarning: [17:55:45] WARNING: /Users/runner/work/xgboost/xgboost/src/learner.cc:740: \n",
      "Parameters: { \"use_label_encoder\" } are not used.\n",
      "\n",
      "  warnings.warn(smsg, UserWarning)\n"
     ]
    },
    {
     "name": "stdout",
     "output_type": "stream",
     "text": [
      "[CV] END colsample_bytree=1.0, gamma=0.1, learning_rate=0.1, max_depth=8, min_child_weight=3, n_estimators=1000, subsample=0.8; total time=  27.3s\n"
     ]
    },
    {
     "name": "stderr",
     "output_type": "stream",
     "text": [
      "/Users/gabriellima/Documents/Competitions/qrt-competition/.venv/lib/python3.12/site-packages/xgboost/core.py:158: UserWarning: [17:55:48] WARNING: /Users/runner/work/xgboost/xgboost/src/learner.cc:740: \n",
      "Parameters: { \"use_label_encoder\" } are not used.\n",
      "\n",
      "  warnings.warn(smsg, UserWarning)\n"
     ]
    },
    {
     "name": "stdout",
     "output_type": "stream",
     "text": [
      "[CV] END colsample_bytree=0.8, gamma=0.2, learning_rate=0.1, max_depth=8, min_child_weight=1, n_estimators=100, subsample=0.8; total time=  10.3s\n"
     ]
    },
    {
     "name": "stderr",
     "output_type": "stream",
     "text": [
      "/Users/gabriellima/Documents/Competitions/qrt-competition/.venv/lib/python3.12/site-packages/xgboost/core.py:158: UserWarning: [17:55:59] WARNING: /Users/runner/work/xgboost/xgboost/src/learner.cc:740: \n",
      "Parameters: { \"use_label_encoder\" } are not used.\n",
      "\n",
      "  warnings.warn(smsg, UserWarning)\n"
     ]
    },
    {
     "name": "stdout",
     "output_type": "stream",
     "text": [
      "[CV] END colsample_bytree=1.0, gamma=0.1, learning_rate=0.1, max_depth=8, min_child_weight=3, n_estimators=1000, subsample=0.8; total time=  27.0s\n"
     ]
    },
    {
     "name": "stderr",
     "output_type": "stream",
     "text": [
      "/Users/gabriellima/Documents/Competitions/qrt-competition/.venv/lib/python3.12/site-packages/xgboost/core.py:158: UserWarning: [17:56:02] WARNING: /Users/runner/work/xgboost/xgboost/src/learner.cc:740: \n",
      "Parameters: { \"use_label_encoder\" } are not used.\n",
      "\n",
      "  warnings.warn(smsg, UserWarning)\n"
     ]
    },
    {
     "name": "stdout",
     "output_type": "stream",
     "text": [
      "[CV] END colsample_bytree=1.0, gamma=0.1, learning_rate=0.1, max_depth=8, min_child_weight=3, n_estimators=1000, subsample=0.8; total time=  26.9s\n"
     ]
    },
    {
     "name": "stderr",
     "output_type": "stream",
     "text": [
      "/Users/gabriellima/Documents/Competitions/qrt-competition/.venv/lib/python3.12/site-packages/xgboost/core.py:158: UserWarning: [17:56:04] WARNING: /Users/runner/work/xgboost/xgboost/src/learner.cc:740: \n",
      "Parameters: { \"use_label_encoder\" } are not used.\n",
      "\n",
      "  warnings.warn(smsg, UserWarning)\n"
     ]
    },
    {
     "name": "stdout",
     "output_type": "stream",
     "text": [
      "[CV] END colsample_bytree=0.8, gamma=0.2, learning_rate=0.1, max_depth=8, min_child_weight=1, n_estimators=100, subsample=0.8; total time=  10.8s\n"
     ]
    },
    {
     "name": "stderr",
     "output_type": "stream",
     "text": [
      "/Users/gabriellima/Documents/Competitions/qrt-competition/.venv/lib/python3.12/site-packages/xgboost/core.py:158: UserWarning: [17:56:09] WARNING: /Users/runner/work/xgboost/xgboost/src/learner.cc:740: \n",
      "Parameters: { \"use_label_encoder\" } are not used.\n",
      "\n",
      "  warnings.warn(smsg, UserWarning)\n"
     ]
    },
    {
     "name": "stdout",
     "output_type": "stream",
     "text": [
      "[CV] END colsample_bytree=0.8, gamma=0.2, learning_rate=0.1, max_depth=8, min_child_weight=1, n_estimators=100, subsample=0.8; total time=  10.7s\n",
      "[CV] END colsample_bytree=1.0, gamma=0.1, learning_rate=0.1, max_depth=8, min_child_weight=3, n_estimators=1000, subsample=0.8; total time=  27.7s\n"
     ]
    },
    {
     "name": "stderr",
     "output_type": "stream",
     "text": [
      "/Users/gabriellima/Documents/Competitions/qrt-competition/.venv/lib/python3.12/site-packages/xgboost/core.py:158: UserWarning: [17:56:12] WARNING: /Users/runner/work/xgboost/xgboost/src/learner.cc:740: \n",
      "Parameters: { \"use_label_encoder\" } are not used.\n",
      "\n",
      "  warnings.warn(smsg, UserWarning)\n",
      "/Users/gabriellima/Documents/Competitions/qrt-competition/.venv/lib/python3.12/site-packages/xgboost/core.py:158: UserWarning: [17:56:13] WARNING: /Users/runner/work/xgboost/xgboost/src/learner.cc:740: \n",
      "Parameters: { \"use_label_encoder\" } are not used.\n",
      "\n",
      "  warnings.warn(smsg, UserWarning)\n"
     ]
    },
    {
     "name": "stdout",
     "output_type": "stream",
     "text": [
      "[CV] END colsample_bytree=0.8, gamma=0.1, learning_rate=0.01, max_depth=10, min_child_weight=3, n_estimators=2000, subsample=0.6; total time= 2.8min\n",
      "[CV] END colsample_bytree=0.8, gamma=0.2, learning_rate=0.1, max_depth=8, min_child_weight=1, n_estimators=100, subsample=0.8; total time=  10.5s\n"
     ]
    },
    {
     "name": "stderr",
     "output_type": "stream",
     "text": [
      "/Users/gabriellima/Documents/Competitions/qrt-competition/.venv/lib/python3.12/site-packages/xgboost/core.py:158: UserWarning: [17:56:14] WARNING: /Users/runner/work/xgboost/xgboost/src/learner.cc:740: \n",
      "Parameters: { \"use_label_encoder\" } are not used.\n",
      "\n",
      "  warnings.warn(smsg, UserWarning)\n",
      "/Users/gabriellima/Documents/Competitions/qrt-competition/.venv/lib/python3.12/site-packages/xgboost/core.py:158: UserWarning: [17:56:17] WARNING: /Users/runner/work/xgboost/xgboost/src/learner.cc:740: \n",
      "Parameters: { \"use_label_encoder\" } are not used.\n",
      "\n",
      "  warnings.warn(smsg, UserWarning)\n"
     ]
    },
    {
     "name": "stdout",
     "output_type": "stream",
     "text": [
      "[CV] END colsample_bytree=0.8, gamma=0.1, learning_rate=0.01, max_depth=10, min_child_weight=3, n_estimators=2000, subsample=0.6; total time= 2.8min\n",
      "[CV] END colsample_bytree=0.8, gamma=0.2, learning_rate=0.1, max_depth=8, min_child_weight=1, n_estimators=100, subsample=0.8; total time=  10.2s\n"
     ]
    },
    {
     "name": "stderr",
     "output_type": "stream",
     "text": [
      "/Users/gabriellima/Documents/Competitions/qrt-competition/.venv/lib/python3.12/site-packages/xgboost/core.py:158: UserWarning: [17:56:20] WARNING: /Users/runner/work/xgboost/xgboost/src/learner.cc:740: \n",
      "Parameters: { \"use_label_encoder\" } are not used.\n",
      "\n",
      "  warnings.warn(smsg, UserWarning)\n",
      "/Users/gabriellima/Documents/Competitions/qrt-competition/.venv/lib/python3.12/site-packages/xgboost/core.py:158: UserWarning: [17:56:20] WARNING: /Users/runner/work/xgboost/xgboost/src/learner.cc:740: \n",
      "Parameters: { \"use_label_encoder\" } are not used.\n",
      "\n",
      "  warnings.warn(smsg, UserWarning)\n"
     ]
    },
    {
     "name": "stdout",
     "output_type": "stream",
     "text": [
      "[CV] END colsample_bytree=1.0, gamma=0.1, learning_rate=0.01, max_depth=8, min_child_weight=3, n_estimators=100, subsample=0.8; total time=  11.4s\n",
      "[CV] END colsample_bytree=1.0, gamma=0.1, learning_rate=0.01, max_depth=8, min_child_weight=3, n_estimators=100, subsample=0.8; total time=  11.4s\n"
     ]
    },
    {
     "name": "stderr",
     "output_type": "stream",
     "text": [
      "/Users/gabriellima/Documents/Competitions/qrt-competition/.venv/lib/python3.12/site-packages/xgboost/core.py:158: UserWarning: [17:56:24] WARNING: /Users/runner/work/xgboost/xgboost/src/learner.cc:740: \n",
      "Parameters: { \"use_label_encoder\" } are not used.\n",
      "\n",
      "  warnings.warn(smsg, UserWarning)\n",
      "/Users/gabriellima/Documents/Competitions/qrt-competition/.venv/lib/python3.12/site-packages/xgboost/core.py:158: UserWarning: [17:56:24] WARNING: /Users/runner/work/xgboost/xgboost/src/learner.cc:740: \n",
      "Parameters: { \"use_label_encoder\" } are not used.\n",
      "\n",
      "  warnings.warn(smsg, UserWarning)\n"
     ]
    },
    {
     "name": "stdout",
     "output_type": "stream",
     "text": [
      "[CV] END colsample_bytree=1.0, gamma=0.1, learning_rate=0.01, max_depth=8, min_child_weight=3, n_estimators=100, subsample=0.8; total time=  11.3s\n"
     ]
    },
    {
     "name": "stderr",
     "output_type": "stream",
     "text": [
      "/Users/gabriellima/Documents/Competitions/qrt-competition/.venv/lib/python3.12/site-packages/xgboost/core.py:158: UserWarning: [17:56:26] WARNING: /Users/runner/work/xgboost/xgboost/src/learner.cc:740: \n",
      "Parameters: { \"use_label_encoder\" } are not used.\n",
      "\n",
      "  warnings.warn(smsg, UserWarning)\n"
     ]
    },
    {
     "name": "stdout",
     "output_type": "stream",
     "text": [
      "[CV] END colsample_bytree=1.0, gamma=0.1, learning_rate=0.01, max_depth=8, min_child_weight=3, n_estimators=100, subsample=0.8; total time=  11.2s\n"
     ]
    },
    {
     "name": "stderr",
     "output_type": "stream",
     "text": [
      "/Users/gabriellima/Documents/Competitions/qrt-competition/.venv/lib/python3.12/site-packages/xgboost/core.py:158: UserWarning: [17:56:28] WARNING: /Users/runner/work/xgboost/xgboost/src/learner.cc:740: \n",
      "Parameters: { \"use_label_encoder\" } are not used.\n",
      "\n",
      "  warnings.warn(smsg, UserWarning)\n"
     ]
    },
    {
     "name": "stdout",
     "output_type": "stream",
     "text": [
      "[CV] END colsample_bytree=1.0, gamma=0.1, learning_rate=0.01, max_depth=8, min_child_weight=3, n_estimators=100, subsample=0.8; total time=  11.1s\n"
     ]
    },
    {
     "name": "stderr",
     "output_type": "stream",
     "text": [
      "/Users/gabriellima/Documents/Competitions/qrt-competition/.venv/lib/python3.12/site-packages/xgboost/core.py:158: UserWarning: [17:56:31] WARNING: /Users/runner/work/xgboost/xgboost/src/learner.cc:740: \n",
      "Parameters: { \"use_label_encoder\" } are not used.\n",
      "\n",
      "  warnings.warn(smsg, UserWarning)\n"
     ]
    },
    {
     "name": "stdout",
     "output_type": "stream",
     "text": [
      "[CV] END colsample_bytree=0.8, gamma=0.1, learning_rate=0.01, max_depth=10, min_child_weight=3, n_estimators=2000, subsample=0.6; total time= 2.7min\n"
     ]
    },
    {
     "name": "stderr",
     "output_type": "stream",
     "text": [
      "/Users/gabriellima/Documents/Competitions/qrt-competition/.venv/lib/python3.12/site-packages/xgboost/core.py:158: UserWarning: [17:56:33] WARNING: /Users/runner/work/xgboost/xgboost/src/learner.cc:740: \n",
      "Parameters: { \"use_label_encoder\" } are not used.\n",
      "\n",
      "  warnings.warn(smsg, UserWarning)\n"
     ]
    },
    {
     "name": "stdout",
     "output_type": "stream",
     "text": [
      "[CV] END colsample_bytree=0.8, gamma=0.2, learning_rate=0.01, max_depth=4, min_child_weight=5, n_estimators=100, subsample=0.6; total time=   2.9s\n"
     ]
    },
    {
     "name": "stderr",
     "output_type": "stream",
     "text": [
      "/Users/gabriellima/Documents/Competitions/qrt-competition/.venv/lib/python3.12/site-packages/xgboost/core.py:158: UserWarning: [17:56:34] WARNING: /Users/runner/work/xgboost/xgboost/src/learner.cc:740: \n",
      "Parameters: { \"use_label_encoder\" } are not used.\n",
      "\n",
      "  warnings.warn(smsg, UserWarning)\n"
     ]
    },
    {
     "name": "stdout",
     "output_type": "stream",
     "text": [
      "[CV] END colsample_bytree=0.8, gamma=0.2, learning_rate=0.01, max_depth=4, min_child_weight=5, n_estimators=100, subsample=0.6; total time=   2.9s\n"
     ]
    },
    {
     "name": "stderr",
     "output_type": "stream",
     "text": [
      "/Users/gabriellima/Documents/Competitions/qrt-competition/.venv/lib/python3.12/site-packages/xgboost/core.py:158: UserWarning: [17:56:36] WARNING: /Users/runner/work/xgboost/xgboost/src/learner.cc:740: \n",
      "Parameters: { \"use_label_encoder\" } are not used.\n",
      "\n",
      "  warnings.warn(smsg, UserWarning)\n"
     ]
    },
    {
     "name": "stdout",
     "output_type": "stream",
     "text": [
      "[CV] END colsample_bytree=0.8, gamma=0.2, learning_rate=0.01, max_depth=4, min_child_weight=5, n_estimators=100, subsample=0.6; total time=   2.8s\n"
     ]
    },
    {
     "name": "stderr",
     "output_type": "stream",
     "text": [
      "/Users/gabriellima/Documents/Competitions/qrt-competition/.venv/lib/python3.12/site-packages/xgboost/core.py:158: UserWarning: [17:56:37] WARNING: /Users/runner/work/xgboost/xgboost/src/learner.cc:740: \n",
      "Parameters: { \"use_label_encoder\" } are not used.\n",
      "\n",
      "  warnings.warn(smsg, UserWarning)\n"
     ]
    },
    {
     "name": "stdout",
     "output_type": "stream",
     "text": [
      "[CV] END colsample_bytree=0.8, gamma=0.1, learning_rate=0.01, max_depth=10, min_child_weight=3, n_estimators=2000, subsample=0.6; total time= 2.7min\n"
     ]
    },
    {
     "name": "stderr",
     "output_type": "stream",
     "text": [
      "/Users/gabriellima/Documents/Competitions/qrt-competition/.venv/lib/python3.12/site-packages/xgboost/core.py:158: UserWarning: [17:56:38] WARNING: /Users/runner/work/xgboost/xgboost/src/learner.cc:740: \n",
      "Parameters: { \"use_label_encoder\" } are not used.\n",
      "\n",
      "  warnings.warn(smsg, UserWarning)\n"
     ]
    },
    {
     "name": "stdout",
     "output_type": "stream",
     "text": [
      "[CV] END colsample_bytree=0.8, gamma=0.2, learning_rate=0.01, max_depth=4, min_child_weight=5, n_estimators=100, subsample=0.6; total time=   2.7s\n"
     ]
    },
    {
     "name": "stderr",
     "output_type": "stream",
     "text": [
      "/Users/gabriellima/Documents/Competitions/qrt-competition/.venv/lib/python3.12/site-packages/xgboost/core.py:158: UserWarning: [17:56:39] WARNING: /Users/runner/work/xgboost/xgboost/src/learner.cc:740: \n",
      "Parameters: { \"use_label_encoder\" } are not used.\n",
      "\n",
      "  warnings.warn(smsg, UserWarning)\n"
     ]
    },
    {
     "name": "stdout",
     "output_type": "stream",
     "text": [
      "[CV] END colsample_bytree=0.8, gamma=0.2, learning_rate=0.01, max_depth=4, min_child_weight=5, n_estimators=100, subsample=0.6; total time=   2.9s\n"
     ]
    },
    {
     "name": "stderr",
     "output_type": "stream",
     "text": [
      "/Users/gabriellima/Documents/Competitions/qrt-competition/.venv/lib/python3.12/site-packages/xgboost/core.py:158: UserWarning: [17:56:40] WARNING: /Users/runner/work/xgboost/xgboost/src/learner.cc:740: \n",
      "Parameters: { \"use_label_encoder\" } are not used.\n",
      "\n",
      "  warnings.warn(smsg, UserWarning)\n"
     ]
    },
    {
     "name": "stdout",
     "output_type": "stream",
     "text": [
      "[CV] END colsample_bytree=0.6, gamma=0, learning_rate=0.1, max_depth=6, min_child_weight=1, n_estimators=1000, subsample=0.6; total time=  35.9s\n"
     ]
    },
    {
     "name": "stderr",
     "output_type": "stream",
     "text": [
      "/Users/gabriellima/Documents/Competitions/qrt-competition/.venv/lib/python3.12/site-packages/xgboost/core.py:158: UserWarning: [17:57:14] WARNING: /Users/runner/work/xgboost/xgboost/src/learner.cc:740: \n",
      "Parameters: { \"use_label_encoder\" } are not used.\n",
      "\n",
      "  warnings.warn(smsg, UserWarning)\n"
     ]
    },
    {
     "name": "stdout",
     "output_type": "stream",
     "text": [
      "[CV] END colsample_bytree=0.6, gamma=0, learning_rate=0.1, max_depth=6, min_child_weight=1, n_estimators=1000, subsample=0.6; total time=  36.3s\n"
     ]
    },
    {
     "name": "stderr",
     "output_type": "stream",
     "text": [
      "/Users/gabriellima/Documents/Competitions/qrt-competition/.venv/lib/python3.12/site-packages/xgboost/core.py:158: UserWarning: [17:57:15] WARNING: /Users/runner/work/xgboost/xgboost/src/learner.cc:740: \n",
      "Parameters: { \"use_label_encoder\" } are not used.\n",
      "\n",
      "  warnings.warn(smsg, UserWarning)\n"
     ]
    },
    {
     "name": "stdout",
     "output_type": "stream",
     "text": [
      "[CV] END colsample_bytree=0.6, gamma=0, learning_rate=0.1, max_depth=6, min_child_weight=1, n_estimators=1000, subsample=0.6; total time=  36.6s\n"
     ]
    },
    {
     "name": "stderr",
     "output_type": "stream",
     "text": [
      "/Users/gabriellima/Documents/Competitions/qrt-competition/.venv/lib/python3.12/site-packages/xgboost/core.py:158: UserWarning: [17:57:17] WARNING: /Users/runner/work/xgboost/xgboost/src/learner.cc:740: \n",
      "Parameters: { \"use_label_encoder\" } are not used.\n",
      "\n",
      "  warnings.warn(smsg, UserWarning)\n"
     ]
    },
    {
     "name": "stdout",
     "output_type": "stream",
     "text": [
      "[CV] END colsample_bytree=1.0, gamma=0.2, learning_rate=0.025, max_depth=8, min_child_weight=3, n_estimators=1000, subsample=0.8; total time= 1.0min\n"
     ]
    },
    {
     "name": "stderr",
     "output_type": "stream",
     "text": [
      "/Users/gabriellima/Documents/Competitions/qrt-competition/.venv/lib/python3.12/site-packages/xgboost/core.py:158: UserWarning: [17:57:20] WARNING: /Users/runner/work/xgboost/xgboost/src/learner.cc:740: \n",
      "Parameters: { \"use_label_encoder\" } are not used.\n",
      "\n",
      "  warnings.warn(smsg, UserWarning)\n"
     ]
    },
    {
     "name": "stdout",
     "output_type": "stream",
     "text": [
      "[CV] END colsample_bytree=1.0, gamma=0.2, learning_rate=0.025, max_depth=8, min_child_weight=3, n_estimators=1000, subsample=0.8; total time=  59.9s\n",
      "[CV] END colsample_bytree=1.0, gamma=0.2, learning_rate=0.025, max_depth=8, min_child_weight=3, n_estimators=1000, subsample=0.8; total time= 1.0min\n"
     ]
    },
    {
     "name": "stderr",
     "output_type": "stream",
     "text": [
      "/Users/gabriellima/Documents/Competitions/qrt-competition/.venv/lib/python3.12/site-packages/xgboost/core.py:158: UserWarning: [17:57:24] WARNING: /Users/runner/work/xgboost/xgboost/src/learner.cc:740: \n",
      "Parameters: { \"use_label_encoder\" } are not used.\n",
      "\n",
      "  warnings.warn(smsg, UserWarning)\n",
      "/Users/gabriellima/Documents/Competitions/qrt-competition/.venv/lib/python3.12/site-packages/xgboost/core.py:158: UserWarning: [17:57:24] WARNING: /Users/runner/work/xgboost/xgboost/src/learner.cc:740: \n",
      "Parameters: { \"use_label_encoder\" } are not used.\n",
      "\n",
      "  warnings.warn(smsg, UserWarning)\n"
     ]
    },
    {
     "name": "stdout",
     "output_type": "stream",
     "text": [
      "[CV] END colsample_bytree=0.6, gamma=0.1, learning_rate=0.1, max_depth=8, min_child_weight=1, n_estimators=100, subsample=1.0; total time=   8.9s\n"
     ]
    },
    {
     "name": "stderr",
     "output_type": "stream",
     "text": [
      "/Users/gabriellima/Documents/Competitions/qrt-competition/.venv/lib/python3.12/site-packages/xgboost/core.py:158: UserWarning: [17:57:26] WARNING: /Users/runner/work/xgboost/xgboost/src/learner.cc:740: \n",
      "Parameters: { \"use_label_encoder\" } are not used.\n",
      "\n",
      "  warnings.warn(smsg, UserWarning)\n"
     ]
    },
    {
     "name": "stdout",
     "output_type": "stream",
     "text": [
      "[CV] END colsample_bytree=1.0, gamma=0.2, learning_rate=0.025, max_depth=8, min_child_weight=3, n_estimators=1000, subsample=0.8; total time= 1.0min\n"
     ]
    },
    {
     "name": "stderr",
     "output_type": "stream",
     "text": [
      "/Users/gabriellima/Documents/Competitions/qrt-competition/.venv/lib/python3.12/site-packages/xgboost/core.py:158: UserWarning: [17:57:26] WARNING: /Users/runner/work/xgboost/xgboost/src/learner.cc:740: \n",
      "Parameters: { \"use_label_encoder\" } are not used.\n",
      "\n",
      "  warnings.warn(smsg, UserWarning)\n"
     ]
    },
    {
     "name": "stdout",
     "output_type": "stream",
     "text": [
      "[CV] END colsample_bytree=1.0, gamma=0.2, learning_rate=0.025, max_depth=8, min_child_weight=3, n_estimators=1000, subsample=0.8; total time=  59.7s\n"
     ]
    },
    {
     "name": "stderr",
     "output_type": "stream",
     "text": [
      "/Users/gabriellima/Documents/Competitions/qrt-competition/.venv/lib/python3.12/site-packages/xgboost/core.py:158: UserWarning: [17:57:28] WARNING: /Users/runner/work/xgboost/xgboost/src/learner.cc:740: \n",
      "Parameters: { \"use_label_encoder\" } are not used.\n",
      "\n",
      "  warnings.warn(smsg, UserWarning)\n"
     ]
    },
    {
     "name": "stdout",
     "output_type": "stream",
     "text": [
      "[CV] END colsample_bytree=0.6, gamma=0.1, learning_rate=0.1, max_depth=8, min_child_weight=1, n_estimators=100, subsample=1.0; total time=   9.1s\n"
     ]
    },
    {
     "name": "stderr",
     "output_type": "stream",
     "text": [
      "/Users/gabriellima/Documents/Competitions/qrt-competition/.venv/lib/python3.12/site-packages/xgboost/core.py:158: UserWarning: [17:57:29] WARNING: /Users/runner/work/xgboost/xgboost/src/learner.cc:740: \n",
      "Parameters: { \"use_label_encoder\" } are not used.\n",
      "\n",
      "  warnings.warn(smsg, UserWarning)\n"
     ]
    },
    {
     "name": "stdout",
     "output_type": "stream",
     "text": [
      "[CV] END colsample_bytree=0.6, gamma=0.1, learning_rate=0.1, max_depth=8, min_child_weight=1, n_estimators=100, subsample=1.0; total time=   8.9s\n"
     ]
    },
    {
     "name": "stderr",
     "output_type": "stream",
     "text": [
      "/Users/gabriellima/Documents/Competitions/qrt-competition/.venv/lib/python3.12/site-packages/xgboost/core.py:158: UserWarning: [17:57:33] WARNING: /Users/runner/work/xgboost/xgboost/src/learner.cc:740: \n",
      "Parameters: { \"use_label_encoder\" } are not used.\n",
      "\n",
      "  warnings.warn(smsg, UserWarning)\n"
     ]
    },
    {
     "name": "stdout",
     "output_type": "stream",
     "text": [
      "[CV] END colsample_bytree=0.6, gamma=0.1, learning_rate=0.1, max_depth=8, min_child_weight=1, n_estimators=100, subsample=1.0; total time=   9.1s\n"
     ]
    },
    {
     "name": "stderr",
     "output_type": "stream",
     "text": [
      "/Users/gabriellima/Documents/Competitions/qrt-competition/.venv/lib/python3.12/site-packages/xgboost/core.py:158: UserWarning: [17:57:33] WARNING: /Users/runner/work/xgboost/xgboost/src/learner.cc:740: \n",
      "Parameters: { \"use_label_encoder\" } are not used.\n",
      "\n",
      "  warnings.warn(smsg, UserWarning)\n"
     ]
    },
    {
     "name": "stdout",
     "output_type": "stream",
     "text": [
      "[CV] END colsample_bytree=0.6, gamma=0.1, learning_rate=0.1, max_depth=8, min_child_weight=1, n_estimators=100, subsample=1.0; total time=   8.7s\n"
     ]
    },
    {
     "name": "stderr",
     "output_type": "stream",
     "text": [
      "/Users/gabriellima/Documents/Competitions/qrt-competition/.venv/lib/python3.12/site-packages/xgboost/core.py:158: UserWarning: [17:57:34] WARNING: /Users/runner/work/xgboost/xgboost/src/learner.cc:740: \n",
      "Parameters: { \"use_label_encoder\" } are not used.\n",
      "\n",
      "  warnings.warn(smsg, UserWarning)\n"
     ]
    },
    {
     "name": "stdout",
     "output_type": "stream",
     "text": [
      "[CV] END colsample_bytree=0.8, gamma=0.1, learning_rate=0.025, max_depth=10, min_child_weight=1, n_estimators=100, subsample=1.0; total time=  20.7s\n"
     ]
    },
    {
     "name": "stderr",
     "output_type": "stream",
     "text": [
      "/Users/gabriellima/Documents/Competitions/qrt-competition/.venv/lib/python3.12/site-packages/xgboost/core.py:158: UserWarning: [17:57:47] WARNING: /Users/runner/work/xgboost/xgboost/src/learner.cc:740: \n",
      "Parameters: { \"use_label_encoder\" } are not used.\n",
      "\n",
      "  warnings.warn(smsg, UserWarning)\n"
     ]
    },
    {
     "name": "stdout",
     "output_type": "stream",
     "text": [
      "[CV] END colsample_bytree=0.8, gamma=0.1, learning_rate=0.025, max_depth=10, min_child_weight=1, n_estimators=100, subsample=1.0; total time=  20.2s\n"
     ]
    },
    {
     "name": "stderr",
     "output_type": "stream",
     "text": [
      "/Users/gabriellima/Documents/Competitions/qrt-competition/.venv/lib/python3.12/site-packages/xgboost/core.py:158: UserWarning: [17:57:48] WARNING: /Users/runner/work/xgboost/xgboost/src/learner.cc:740: \n",
      "Parameters: { \"use_label_encoder\" } are not used.\n",
      "\n",
      "  warnings.warn(smsg, UserWarning)\n"
     ]
    },
    {
     "name": "stdout",
     "output_type": "stream",
     "text": [
      "[CV] END colsample_bytree=0.6, gamma=0, learning_rate=0.1, max_depth=6, min_child_weight=1, n_estimators=1000, subsample=0.6; total time=  35.8s\n"
     ]
    },
    {
     "name": "stderr",
     "output_type": "stream",
     "text": [
      "/Users/gabriellima/Documents/Competitions/qrt-competition/.venv/lib/python3.12/site-packages/xgboost/core.py:158: UserWarning: [17:57:50] WARNING: /Users/runner/work/xgboost/xgboost/src/learner.cc:740: \n",
      "Parameters: { \"use_label_encoder\" } are not used.\n",
      "\n",
      "  warnings.warn(smsg, UserWarning)\n"
     ]
    },
    {
     "name": "stdout",
     "output_type": "stream",
     "text": [
      "[CV] END colsample_bytree=0.8, gamma=0.1, learning_rate=0.025, max_depth=10, min_child_weight=1, n_estimators=100, subsample=1.0; total time=  21.3s\n"
     ]
    },
    {
     "name": "stderr",
     "output_type": "stream",
     "text": [
      "/Users/gabriellima/Documents/Competitions/qrt-competition/.venv/lib/python3.12/site-packages/xgboost/core.py:158: UserWarning: [17:57:50] WARNING: /Users/runner/work/xgboost/xgboost/src/learner.cc:740: \n",
      "Parameters: { \"use_label_encoder\" } are not used.\n",
      "\n",
      "  warnings.warn(smsg, UserWarning)\n"
     ]
    },
    {
     "name": "stdout",
     "output_type": "stream",
     "text": [
      "[CV] END colsample_bytree=0.6, gamma=0, learning_rate=0.1, max_depth=6, min_child_weight=1, n_estimators=1000, subsample=0.6; total time=  35.9s\n"
     ]
    },
    {
     "name": "stderr",
     "output_type": "stream",
     "text": [
      "/Users/gabriellima/Documents/Competitions/qrt-competition/.venv/lib/python3.12/site-packages/xgboost/core.py:158: UserWarning: [17:57:51] WARNING: /Users/runner/work/xgboost/xgboost/src/learner.cc:740: \n",
      "Parameters: { \"use_label_encoder\" } are not used.\n",
      "\n",
      "  warnings.warn(smsg, UserWarning)\n"
     ]
    },
    {
     "name": "stdout",
     "output_type": "stream",
     "text": [
      "[CV] END colsample_bytree=0.8, gamma=0.1, learning_rate=0.025, max_depth=10, min_child_weight=1, n_estimators=100, subsample=1.0; total time=  21.1s\n",
      "[CV] END colsample_bytree=0.8, gamma=0.1, learning_rate=0.025, max_depth=10, min_child_weight=1, n_estimators=100, subsample=1.0; total time=  20.5s\n"
     ]
    },
    {
     "name": "stderr",
     "output_type": "stream",
     "text": [
      "/Users/gabriellima/Documents/Competitions/qrt-competition/.venv/lib/python3.12/site-packages/xgboost/core.py:158: UserWarning: [17:57:54] WARNING: /Users/runner/work/xgboost/xgboost/src/learner.cc:740: \n",
      "Parameters: { \"use_label_encoder\" } are not used.\n",
      "\n",
      "  warnings.warn(smsg, UserWarning)\n",
      "/Users/gabriellima/Documents/Competitions/qrt-competition/.venv/lib/python3.12/site-packages/xgboost/core.py:158: UserWarning: [17:57:54] WARNING: /Users/runner/work/xgboost/xgboost/src/learner.cc:740: \n",
      "Parameters: { \"use_label_encoder\" } are not used.\n",
      "\n",
      "  warnings.warn(smsg, UserWarning)\n"
     ]
    },
    {
     "name": "stdout",
     "output_type": "stream",
     "text": [
      "[CV] END colsample_bytree=0.8, gamma=0, learning_rate=0.05, max_depth=4, min_child_weight=5, n_estimators=1000, subsample=0.8; total time=  24.2s\n"
     ]
    },
    {
     "name": "stderr",
     "output_type": "stream",
     "text": [
      "/Users/gabriellima/Documents/Competitions/qrt-competition/.venv/lib/python3.12/site-packages/xgboost/core.py:158: UserWarning: [17:57:59] WARNING: /Users/runner/work/xgboost/xgboost/src/learner.cc:740: \n",
      "Parameters: { \"use_label_encoder\" } are not used.\n",
      "\n",
      "  warnings.warn(smsg, UserWarning)\n"
     ]
    },
    {
     "name": "stdout",
     "output_type": "stream",
     "text": [
      "[CV] END colsample_bytree=0.8, gamma=0, learning_rate=0.05, max_depth=4, min_child_weight=5, n_estimators=1000, subsample=0.8; total time=  25.3s\n"
     ]
    },
    {
     "name": "stderr",
     "output_type": "stream",
     "text": [
      "/Users/gabriellima/Documents/Competitions/qrt-competition/.venv/lib/python3.12/site-packages/xgboost/core.py:158: UserWarning: [17:58:12] WARNING: /Users/runner/work/xgboost/xgboost/src/learner.cc:740: \n",
      "Parameters: { \"use_label_encoder\" } are not used.\n",
      "\n",
      "  warnings.warn(smsg, UserWarning)\n"
     ]
    },
    {
     "name": "stdout",
     "output_type": "stream",
     "text": [
      "[CV] END colsample_bytree=0.8, gamma=0, learning_rate=0.05, max_depth=4, min_child_weight=5, n_estimators=1000, subsample=0.8; total time=  25.3s\n"
     ]
    },
    {
     "name": "stderr",
     "output_type": "stream",
     "text": [
      "/Users/gabriellima/Documents/Competitions/qrt-competition/.venv/lib/python3.12/site-packages/xgboost/core.py:158: UserWarning: [17:58:13] WARNING: /Users/runner/work/xgboost/xgboost/src/learner.cc:740: \n",
      "Parameters: { \"use_label_encoder\" } are not used.\n",
      "\n",
      "  warnings.warn(smsg, UserWarning)\n"
     ]
    },
    {
     "name": "stdout",
     "output_type": "stream",
     "text": [
      "[CV] END colsample_bytree=0.8, gamma=0, learning_rate=0.05, max_depth=4, min_child_weight=5, n_estimators=1000, subsample=0.8; total time=  25.1s\n"
     ]
    },
    {
     "name": "stderr",
     "output_type": "stream",
     "text": [
      "/Users/gabriellima/Documents/Competitions/qrt-competition/.venv/lib/python3.12/site-packages/xgboost/core.py:158: UserWarning: [17:58:15] WARNING: /Users/runner/work/xgboost/xgboost/src/learner.cc:740: \n",
      "Parameters: { \"use_label_encoder\" } are not used.\n",
      "\n",
      "  warnings.warn(smsg, UserWarning)\n"
     ]
    },
    {
     "name": "stdout",
     "output_type": "stream",
     "text": [
      "[CV] END colsample_bytree=0.8, gamma=0, learning_rate=0.05, max_depth=4, min_child_weight=5, n_estimators=1000, subsample=0.8; total time=  25.6s\n"
     ]
    },
    {
     "name": "stderr",
     "output_type": "stream",
     "text": [
      "/Users/gabriellima/Documents/Competitions/qrt-competition/.venv/lib/python3.12/site-packages/xgboost/core.py:158: UserWarning: [17:58:16] WARNING: /Users/runner/work/xgboost/xgboost/src/learner.cc:740: \n",
      "Parameters: { \"use_label_encoder\" } are not used.\n",
      "\n",
      "  warnings.warn(smsg, UserWarning)\n"
     ]
    },
    {
     "name": "stdout",
     "output_type": "stream",
     "text": [
      "[CV] END colsample_bytree=0.8, gamma=0.1, learning_rate=0.1, max_depth=4, min_child_weight=1, n_estimators=2000, subsample=1.0; total time=  29.7s\n"
     ]
    },
    {
     "name": "stderr",
     "output_type": "stream",
     "text": [
      "/Users/gabriellima/Documents/Competitions/qrt-competition/.venv/lib/python3.12/site-packages/xgboost/core.py:158: UserWarning: [17:58:21] WARNING: /Users/runner/work/xgboost/xgboost/src/learner.cc:740: \n",
      "Parameters: { \"use_label_encoder\" } are not used.\n",
      "\n",
      "  warnings.warn(smsg, UserWarning)\n"
     ]
    },
    {
     "name": "stdout",
     "output_type": "stream",
     "text": [
      "[CV] END colsample_bytree=0.8, gamma=0.1, learning_rate=0.1, max_depth=4, min_child_weight=1, n_estimators=2000, subsample=1.0; total time=  29.6s\n"
     ]
    },
    {
     "name": "stderr",
     "output_type": "stream",
     "text": [
      "/Users/gabriellima/Documents/Competitions/qrt-competition/.venv/lib/python3.12/site-packages/xgboost/core.py:158: UserWarning: [17:58:23] WARNING: /Users/runner/work/xgboost/xgboost/src/learner.cc:740: \n",
      "Parameters: { \"use_label_encoder\" } are not used.\n",
      "\n",
      "  warnings.warn(smsg, UserWarning)\n"
     ]
    },
    {
     "name": "stdout",
     "output_type": "stream",
     "text": [
      "[CV] END colsample_bytree=0.8, gamma=0.1, learning_rate=0.1, max_depth=4, min_child_weight=1, n_estimators=2000, subsample=1.0; total time=  30.2s\n"
     ]
    },
    {
     "name": "stderr",
     "output_type": "stream",
     "text": [
      "/Users/gabriellima/Documents/Competitions/qrt-competition/.venv/lib/python3.12/site-packages/xgboost/core.py:158: UserWarning: [17:58:24] WARNING: /Users/runner/work/xgboost/xgboost/src/learner.cc:740: \n",
      "Parameters: { \"use_label_encoder\" } are not used.\n",
      "\n",
      "  warnings.warn(smsg, UserWarning)\n"
     ]
    },
    {
     "name": "stdout",
     "output_type": "stream",
     "text": [
      "[CV] END colsample_bytree=0.8, gamma=0.1, learning_rate=0.1, max_depth=4, min_child_weight=1, n_estimators=2000, subsample=1.0; total time=  30.0s\n"
     ]
    },
    {
     "name": "stderr",
     "output_type": "stream",
     "text": [
      "/Users/gabriellima/Documents/Competitions/qrt-competition/.venv/lib/python3.12/site-packages/xgboost/core.py:158: UserWarning: [17:58:29] WARNING: /Users/runner/work/xgboost/xgboost/src/learner.cc:740: \n",
      "Parameters: { \"use_label_encoder\" } are not used.\n",
      "\n",
      "  warnings.warn(smsg, UserWarning)\n"
     ]
    },
    {
     "name": "stdout",
     "output_type": "stream",
     "text": [
      "[CV] END colsample_bytree=0.8, gamma=0.1, learning_rate=0.1, max_depth=4, min_child_weight=1, n_estimators=2000, subsample=1.0; total time=  29.4s\n"
     ]
    },
    {
     "name": "stderr",
     "output_type": "stream",
     "text": [
      "/Users/gabriellima/Documents/Competitions/qrt-competition/.venv/lib/python3.12/site-packages/xgboost/core.py:158: UserWarning: [17:58:42] WARNING: /Users/runner/work/xgboost/xgboost/src/learner.cc:740: \n",
      "Parameters: { \"use_label_encoder\" } are not used.\n",
      "\n",
      "  warnings.warn(smsg, UserWarning)\n"
     ]
    },
    {
     "name": "stdout",
     "output_type": "stream",
     "text": [
      "[CV] END colsample_bytree=0.6, gamma=0.1, learning_rate=0.05, max_depth=10, min_child_weight=1, n_estimators=500, subsample=0.6; total time=  36.2s\n"
     ]
    },
    {
     "name": "stderr",
     "output_type": "stream",
     "text": [
      "/Users/gabriellima/Documents/Competitions/qrt-competition/.venv/lib/python3.12/site-packages/xgboost/core.py:158: UserWarning: [17:58:49] WARNING: /Users/runner/work/xgboost/xgboost/src/learner.cc:740: \n",
      "Parameters: { \"use_label_encoder\" } are not used.\n",
      "\n",
      "  warnings.warn(smsg, UserWarning)\n"
     ]
    },
    {
     "name": "stdout",
     "output_type": "stream",
     "text": [
      "[CV] END colsample_bytree=0.6, gamma=0.1, learning_rate=0.05, max_depth=10, min_child_weight=1, n_estimators=500, subsample=0.6; total time=  36.2s\n"
     ]
    },
    {
     "name": "stderr",
     "output_type": "stream",
     "text": [
      "/Users/gabriellima/Documents/Competitions/qrt-competition/.venv/lib/python3.12/site-packages/xgboost/core.py:158: UserWarning: [17:58:51] WARNING: /Users/runner/work/xgboost/xgboost/src/learner.cc:740: \n",
      "Parameters: { \"use_label_encoder\" } are not used.\n",
      "\n",
      "  warnings.warn(smsg, UserWarning)\n"
     ]
    },
    {
     "name": "stdout",
     "output_type": "stream",
     "text": [
      "[CV] END colsample_bytree=0.6, gamma=0.1, learning_rate=0.05, max_depth=10, min_child_weight=1, n_estimators=500, subsample=0.6; total time=  36.2s\n"
     ]
    },
    {
     "name": "stderr",
     "output_type": "stream",
     "text": [
      "/Users/gabriellima/Documents/Competitions/qrt-competition/.venv/lib/python3.12/site-packages/xgboost/core.py:158: UserWarning: [17:58:52] WARNING: /Users/runner/work/xgboost/xgboost/src/learner.cc:740: \n",
      "Parameters: { \"use_label_encoder\" } are not used.\n",
      "\n",
      "  warnings.warn(smsg, UserWarning)\n"
     ]
    },
    {
     "name": "stdout",
     "output_type": "stream",
     "text": [
      "[CV] END colsample_bytree=0.6, gamma=0.1, learning_rate=0.05, max_depth=10, min_child_weight=1, n_estimators=500, subsample=0.6; total time=  35.8s\n"
     ]
    },
    {
     "name": "stderr",
     "output_type": "stream",
     "text": [
      "/Users/gabriellima/Documents/Competitions/qrt-competition/.venv/lib/python3.12/site-packages/xgboost/core.py:158: UserWarning: [17:58:56] WARNING: /Users/runner/work/xgboost/xgboost/src/learner.cc:740: \n",
      "Parameters: { \"use_label_encoder\" } are not used.\n",
      "\n",
      "  warnings.warn(smsg, UserWarning)\n"
     ]
    },
    {
     "name": "stdout",
     "output_type": "stream",
     "text": [
      "[CV] END colsample_bytree=0.6, gamma=0.1, learning_rate=0.05, max_depth=10, min_child_weight=1, n_estimators=500, subsample=0.6; total time=  35.5s\n"
     ]
    },
    {
     "name": "stderr",
     "output_type": "stream",
     "text": [
      "/Users/gabriellima/Documents/Competitions/qrt-competition/.venv/lib/python3.12/site-packages/xgboost/core.py:158: UserWarning: [17:58:59] WARNING: /Users/runner/work/xgboost/xgboost/src/learner.cc:740: \n",
      "Parameters: { \"use_label_encoder\" } are not used.\n",
      "\n",
      "  warnings.warn(smsg, UserWarning)\n"
     ]
    },
    {
     "name": "stdout",
     "output_type": "stream",
     "text": [
      "[CV] END colsample_bytree=0.8, gamma=0, learning_rate=0.01, max_depth=8, min_child_weight=1, n_estimators=1000, subsample=0.6; total time= 1.5min\n"
     ]
    },
    {
     "name": "stderr",
     "output_type": "stream",
     "text": [
      "/Users/gabriellima/Documents/Competitions/qrt-competition/.venv/lib/python3.12/site-packages/xgboost/core.py:158: UserWarning: [18:15:29] WARNING: /Users/runner/work/xgboost/xgboost/src/learner.cc:740: \n",
      "Parameters: { \"use_label_encoder\" } are not used.\n",
      "\n",
      "  warnings.warn(smsg, UserWarning)\n"
     ]
    },
    {
     "name": "stdout",
     "output_type": "stream",
     "text": [
      "[CV] END colsample_bytree=0.8, gamma=0, learning_rate=0.01, max_depth=8, min_child_weight=1, n_estimators=1000, subsample=0.6; total time=17.1min\n"
     ]
    },
    {
     "name": "stderr",
     "output_type": "stream",
     "text": [
      "/Users/gabriellima/Documents/Competitions/qrt-competition/.venv/lib/python3.12/site-packages/xgboost/core.py:158: UserWarning: [18:15:35] WARNING: /Users/runner/work/xgboost/xgboost/src/learner.cc:740: \n",
      "Parameters: { \"use_label_encoder\" } are not used.\n",
      "\n",
      "  warnings.warn(smsg, UserWarning)\n"
     ]
    },
    {
     "name": "stdout",
     "output_type": "stream",
     "text": [
      "[CV] END colsample_bytree=0.6, gamma=0, learning_rate=0.025, max_depth=6, min_child_weight=1, n_estimators=2000, subsample=0.6; total time=16.8min\n",
      "[CV] END colsample_bytree=0.6, gamma=0, learning_rate=0.025, max_depth=6, min_child_weight=1, n_estimators=2000, subsample=0.6; total time=16.8min\n"
     ]
    },
    {
     "name": "stderr",
     "output_type": "stream",
     "text": [
      "/Users/gabriellima/Documents/Competitions/qrt-competition/.venv/lib/python3.12/site-packages/xgboost/core.py:158: UserWarning: [18:15:44] WARNING: /Users/runner/work/xgboost/xgboost/src/learner.cc:740: \n",
      "Parameters: { \"use_label_encoder\" } are not used.\n",
      "\n",
      "  warnings.warn(smsg, UserWarning)\n"
     ]
    },
    {
     "name": "stdout",
     "output_type": "stream",
     "text": [
      "[CV] END colsample_bytree=0.8, gamma=0, learning_rate=0.01, max_depth=8, min_child_weight=1, n_estimators=1000, subsample=0.6; total time=17.0min\n"
     ]
    },
    {
     "name": "stderr",
     "output_type": "stream",
     "text": [
      "/Users/gabriellima/Documents/Competitions/qrt-competition/.venv/lib/python3.12/site-packages/xgboost/core.py:158: UserWarning: [18:15:44] WARNING: /Users/runner/work/xgboost/xgboost/src/learner.cc:740: \n",
      "Parameters: { \"use_label_encoder\" } are not used.\n",
      "\n",
      "  warnings.warn(smsg, UserWarning)\n",
      "/Users/gabriellima/Documents/Competitions/qrt-competition/.venv/lib/python3.12/site-packages/xgboost/core.py:158: UserWarning: [18:15:47] WARNING: /Users/runner/work/xgboost/xgboost/src/learner.cc:740: \n",
      "Parameters: { \"use_label_encoder\" } are not used.\n",
      "\n",
      "  warnings.warn(smsg, UserWarning)\n"
     ]
    },
    {
     "name": "stdout",
     "output_type": "stream",
     "text": [
      "[CV] END colsample_bytree=0.6, gamma=0, learning_rate=0.025, max_depth=6, min_child_weight=1, n_estimators=2000, subsample=0.6; total time=16.8min\n"
     ]
    },
    {
     "name": "stderr",
     "output_type": "stream",
     "text": [
      "/Users/gabriellima/Documents/Competitions/qrt-competition/.venv/lib/python3.12/site-packages/xgboost/core.py:158: UserWarning: [18:15:51] WARNING: /Users/runner/work/xgboost/xgboost/src/learner.cc:740: \n",
      "Parameters: { \"use_label_encoder\" } are not used.\n",
      "\n",
      "  warnings.warn(smsg, UserWarning)\n"
     ]
    },
    {
     "name": "stdout",
     "output_type": "stream",
     "text": [
      "[CV] END colsample_bytree=0.8, gamma=0, learning_rate=0.01, max_depth=8, min_child_weight=1, n_estimators=1000, subsample=0.6; total time=17.0min\n"
     ]
    },
    {
     "name": "stderr",
     "output_type": "stream",
     "text": [
      "/Users/gabriellima/Documents/Competitions/qrt-competition/.venv/lib/python3.12/site-packages/xgboost/core.py:158: UserWarning: [18:15:54] WARNING: /Users/runner/work/xgboost/xgboost/src/learner.cc:740: \n",
      "Parameters: { \"use_label_encoder\" } are not used.\n",
      "\n",
      "  warnings.warn(smsg, UserWarning)\n"
     ]
    },
    {
     "name": "stdout",
     "output_type": "stream",
     "text": [
      "[CV] END colsample_bytree=0.8, gamma=0, learning_rate=0.01, max_depth=8, min_child_weight=1, n_estimators=1000, subsample=0.6; total time=17.1min\n"
     ]
    },
    {
     "name": "stderr",
     "output_type": "stream",
     "text": [
      "/Users/gabriellima/Documents/Competitions/qrt-competition/.venv/lib/python3.12/site-packages/xgboost/core.py:158: UserWarning: [18:15:57] WARNING: /Users/runner/work/xgboost/xgboost/src/learner.cc:740: \n",
      "Parameters: { \"use_label_encoder\" } are not used.\n",
      "\n",
      "  warnings.warn(smsg, UserWarning)\n"
     ]
    },
    {
     "name": "stdout",
     "output_type": "stream",
     "text": [
      "[CV] END colsample_bytree=0.8, gamma=0.1, learning_rate=0.05, max_depth=10, min_child_weight=5, n_estimators=2000, subsample=0.8; total time= 2.7min\n"
     ]
    },
    {
     "name": "stderr",
     "output_type": "stream",
     "text": [
      "/Users/gabriellima/Documents/Competitions/qrt-competition/.venv/lib/python3.12/site-packages/xgboost/core.py:158: UserWarning: [18:18:24] WARNING: /Users/runner/work/xgboost/xgboost/src/learner.cc:740: \n",
      "Parameters: { \"use_label_encoder\" } are not used.\n",
      "\n",
      "  warnings.warn(smsg, UserWarning)\n"
     ]
    },
    {
     "name": "stdout",
     "output_type": "stream",
     "text": [
      "[CV] END colsample_bytree=0.8, gamma=0.1, learning_rate=0.05, max_depth=10, min_child_weight=5, n_estimators=2000, subsample=0.8; total time= 2.7min\n"
     ]
    },
    {
     "name": "stderr",
     "output_type": "stream",
     "text": [
      "/Users/gabriellima/Documents/Competitions/qrt-competition/.venv/lib/python3.12/site-packages/xgboost/core.py:158: UserWarning: [18:18:24] WARNING: /Users/runner/work/xgboost/xgboost/src/learner.cc:740: \n",
      "Parameters: { \"use_label_encoder\" } are not used.\n",
      "\n",
      "  warnings.warn(smsg, UserWarning)\n"
     ]
    },
    {
     "name": "stdout",
     "output_type": "stream",
     "text": [
      "[CV] END colsample_bytree=0.8, gamma=0.1, learning_rate=0.05, max_depth=10, min_child_weight=5, n_estimators=2000, subsample=0.8; total time= 2.7min\n"
     ]
    },
    {
     "name": "stderr",
     "output_type": "stream",
     "text": [
      "/Users/gabriellima/Documents/Competitions/qrt-competition/.venv/lib/python3.12/site-packages/xgboost/core.py:158: UserWarning: [18:18:27] WARNING: /Users/runner/work/xgboost/xgboost/src/learner.cc:740: \n",
      "Parameters: { \"use_label_encoder\" } are not used.\n",
      "\n",
      "  warnings.warn(smsg, UserWarning)\n"
     ]
    },
    {
     "name": "stdout",
     "output_type": "stream",
     "text": [
      "[CV] END colsample_bytree=0.8, gamma=0.1, learning_rate=0.05, max_depth=10, min_child_weight=5, n_estimators=2000, subsample=0.8; total time= 2.7min\n"
     ]
    },
    {
     "name": "stderr",
     "output_type": "stream",
     "text": [
      "/Users/gabriellima/Documents/Competitions/qrt-competition/.venv/lib/python3.12/site-packages/xgboost/core.py:158: UserWarning: [18:18:30] WARNING: /Users/runner/work/xgboost/xgboost/src/learner.cc:740: \n",
      "Parameters: { \"use_label_encoder\" } are not used.\n",
      "\n",
      "  warnings.warn(smsg, UserWarning)\n"
     ]
    },
    {
     "name": "stdout",
     "output_type": "stream",
     "text": [
      "[CV] END colsample_bytree=0.8, gamma=0.1, learning_rate=0.05, max_depth=10, min_child_weight=5, n_estimators=2000, subsample=0.8; total time= 2.7min\n"
     ]
    },
    {
     "name": "stderr",
     "output_type": "stream",
     "text": [
      "/Users/gabriellima/Documents/Competitions/qrt-competition/.venv/lib/python3.12/site-packages/xgboost/core.py:158: UserWarning: [18:18:34] WARNING: /Users/runner/work/xgboost/xgboost/src/learner.cc:740: \n",
      "Parameters: { \"use_label_encoder\" } are not used.\n",
      "\n",
      "  warnings.warn(smsg, UserWarning)\n"
     ]
    },
    {
     "name": "stdout",
     "output_type": "stream",
     "text": [
      "[CV] END colsample_bytree=0.6, gamma=0, learning_rate=0.025, max_depth=6, min_child_weight=1, n_estimators=2000, subsample=0.6; total time= 3.2min\n"
     ]
    },
    {
     "name": "stderr",
     "output_type": "stream",
     "text": [
      "/Users/gabriellima/Documents/Competitions/qrt-competition/.venv/lib/python3.12/site-packages/xgboost/core.py:158: UserWarning: [18:18:39] WARNING: /Users/runner/work/xgboost/xgboost/src/learner.cc:740: \n",
      "Parameters: { \"use_label_encoder\" } are not used.\n",
      "\n",
      "  warnings.warn(smsg, UserWarning)\n"
     ]
    },
    {
     "name": "stdout",
     "output_type": "stream",
     "text": [
      "[CV] END colsample_bytree=1.0, gamma=0.2, learning_rate=0.01, max_depth=6, min_child_weight=3, n_estimators=100, subsample=1.0; total time=   5.6s\n"
     ]
    },
    {
     "name": "stderr",
     "output_type": "stream",
     "text": [
      "/Users/gabriellima/Documents/Competitions/qrt-competition/.venv/lib/python3.12/site-packages/xgboost/core.py:158: UserWarning: [18:18:39] WARNING: /Users/runner/work/xgboost/xgboost/src/learner.cc:740: \n",
      "Parameters: { \"use_label_encoder\" } are not used.\n",
      "\n",
      "  warnings.warn(smsg, UserWarning)\n"
     ]
    },
    {
     "name": "stdout",
     "output_type": "stream",
     "text": [
      "[CV] END colsample_bytree=0.6, gamma=0, learning_rate=0.025, max_depth=6, min_child_weight=1, n_estimators=2000, subsample=0.6; total time= 3.1min\n"
     ]
    },
    {
     "name": "stderr",
     "output_type": "stream",
     "text": [
      "/Users/gabriellima/Documents/Competitions/qrt-competition/.venv/lib/python3.12/site-packages/xgboost/core.py:158: UserWarning: [18:18:43] WARNING: /Users/runner/work/xgboost/xgboost/src/learner.cc:740: \n",
      "Parameters: { \"use_label_encoder\" } are not used.\n",
      "\n",
      "  warnings.warn(smsg, UserWarning)\n"
     ]
    },
    {
     "name": "stdout",
     "output_type": "stream",
     "text": [
      "[CV] END colsample_bytree=1.0, gamma=0.2, learning_rate=0.01, max_depth=6, min_child_weight=3, n_estimators=100, subsample=1.0; total time=   5.4s\n"
     ]
    },
    {
     "name": "stderr",
     "output_type": "stream",
     "text": [
      "/Users/gabriellima/Documents/Competitions/qrt-competition/.venv/lib/python3.12/site-packages/xgboost/core.py:158: UserWarning: [18:18:44] WARNING: /Users/runner/work/xgboost/xgboost/src/learner.cc:740: \n",
      "Parameters: { \"use_label_encoder\" } are not used.\n",
      "\n",
      "  warnings.warn(smsg, UserWarning)\n"
     ]
    },
    {
     "name": "stdout",
     "output_type": "stream",
     "text": [
      "[CV] END colsample_bytree=1.0, gamma=0.2, learning_rate=0.01, max_depth=6, min_child_weight=3, n_estimators=100, subsample=1.0; total time=   5.6s\n"
     ]
    },
    {
     "name": "stderr",
     "output_type": "stream",
     "text": [
      "/Users/gabriellima/Documents/Competitions/qrt-competition/.venv/lib/python3.12/site-packages/xgboost/core.py:158: UserWarning: [18:18:45] WARNING: /Users/runner/work/xgboost/xgboost/src/learner.cc:740: \n",
      "Parameters: { \"use_label_encoder\" } are not used.\n",
      "\n",
      "  warnings.warn(smsg, UserWarning)\n"
     ]
    },
    {
     "name": "stdout",
     "output_type": "stream",
     "text": [
      "[CV] END colsample_bytree=1.0, gamma=0.2, learning_rate=0.01, max_depth=6, min_child_weight=3, n_estimators=100, subsample=1.0; total time= 4.9min\n"
     ]
    },
    {
     "name": "stderr",
     "output_type": "stream",
     "text": [
      "/Users/gabriellima/Documents/Competitions/qrt-competition/.venv/lib/python3.12/site-packages/xgboost/core.py:158: UserWarning: [18:23:39] WARNING: /Users/runner/work/xgboost/xgboost/src/learner.cc:740: \n",
      "Parameters: { \"use_label_encoder\" } are not used.\n",
      "\n",
      "  warnings.warn(smsg, UserWarning)\n"
     ]
    },
    {
     "name": "stdout",
     "output_type": "stream",
     "text": [
      "[CV] END colsample_bytree=1.0, gamma=0.2, learning_rate=0.01, max_depth=6, min_child_weight=3, n_estimators=100, subsample=1.0; total time= 4.9min\n"
     ]
    },
    {
     "name": "stderr",
     "output_type": "stream",
     "text": [
      "/Users/gabriellima/Documents/Competitions/qrt-competition/.venv/lib/python3.12/site-packages/xgboost/core.py:158: UserWarning: [18:23:39] WARNING: /Users/runner/work/xgboost/xgboost/src/learner.cc:740: \n",
      "Parameters: { \"use_label_encoder\" } are not used.\n",
      "\n",
      "  warnings.warn(smsg, UserWarning)\n"
     ]
    },
    {
     "name": "stdout",
     "output_type": "stream",
     "text": [
      "[CV] END colsample_bytree=0.8, gamma=0.2, learning_rate=0.01, max_depth=10, min_child_weight=3, n_estimators=500, subsample=1.0; total time= 7.8min\n"
     ]
    },
    {
     "name": "stderr",
     "output_type": "stream",
     "text": [
      "/Users/gabriellima/Documents/Competitions/qrt-competition/.venv/lib/python3.12/site-packages/xgboost/core.py:158: UserWarning: [18:23:44] WARNING: /Users/runner/work/xgboost/xgboost/src/learner.cc:740: \n",
      "Parameters: { \"use_label_encoder\" } are not used.\n",
      "\n",
      "  warnings.warn(smsg, UserWarning)\n"
     ]
    },
    {
     "name": "stdout",
     "output_type": "stream",
     "text": [
      "[CV] END colsample_bytree=0.8, gamma=0, learning_rate=0.025, max_depth=4, min_child_weight=5, n_estimators=500, subsample=0.6; total time= 5.0min\n"
     ]
    },
    {
     "name": "stderr",
     "output_type": "stream",
     "text": [
      "/Users/gabriellima/Documents/Competitions/qrt-competition/.venv/lib/python3.12/site-packages/xgboost/core.py:158: UserWarning: [18:23:48] WARNING: /Users/runner/work/xgboost/xgboost/src/learner.cc:740: \n",
      "Parameters: { \"use_label_encoder\" } are not used.\n",
      "\n",
      "  warnings.warn(smsg, UserWarning)\n"
     ]
    },
    {
     "name": "stdout",
     "output_type": "stream",
     "text": [
      "[CV] END colsample_bytree=0.8, gamma=0, learning_rate=0.025, max_depth=4, min_child_weight=5, n_estimators=500, subsample=0.6; total time=  13.9s\n"
     ]
    },
    {
     "name": "stderr",
     "output_type": "stream",
     "text": [
      "/Users/gabriellima/Documents/Competitions/qrt-competition/.venv/lib/python3.12/site-packages/xgboost/core.py:158: UserWarning: [18:23:52] WARNING: /Users/runner/work/xgboost/xgboost/src/learner.cc:740: \n",
      "Parameters: { \"use_label_encoder\" } are not used.\n",
      "\n",
      "  warnings.warn(smsg, UserWarning)\n"
     ]
    },
    {
     "name": "stdout",
     "output_type": "stream",
     "text": [
      "[CV] END colsample_bytree=0.8, gamma=0, learning_rate=0.025, max_depth=4, min_child_weight=5, n_estimators=500, subsample=0.6; total time=  14.1s\n"
     ]
    },
    {
     "name": "stderr",
     "output_type": "stream",
     "text": [
      "/Users/gabriellima/Documents/Competitions/qrt-competition/.venv/lib/python3.12/site-packages/xgboost/core.py:158: UserWarning: [18:23:54] WARNING: /Users/runner/work/xgboost/xgboost/src/learner.cc:740: \n",
      "Parameters: { \"use_label_encoder\" } are not used.\n",
      "\n",
      "  warnings.warn(smsg, UserWarning)\n"
     ]
    },
    {
     "name": "stdout",
     "output_type": "stream",
     "text": [
      "[CV] END colsample_bytree=0.8, gamma=0, learning_rate=0.025, max_depth=4, min_child_weight=5, n_estimators=500, subsample=0.6; total time=  14.5s\n"
     ]
    },
    {
     "name": "stderr",
     "output_type": "stream",
     "text": [
      "/Users/gabriellima/Documents/Competitions/qrt-competition/.venv/lib/python3.12/site-packages/xgboost/core.py:158: UserWarning: [18:23:58] WARNING: /Users/runner/work/xgboost/xgboost/src/learner.cc:740: \n",
      "Parameters: { \"use_label_encoder\" } are not used.\n",
      "\n",
      "  warnings.warn(smsg, UserWarning)\n"
     ]
    },
    {
     "name": "stdout",
     "output_type": "stream",
     "text": [
      "[CV] END colsample_bytree=0.8, gamma=0, learning_rate=0.025, max_depth=4, min_child_weight=5, n_estimators=500, subsample=0.6; total time=  15.0s\n"
     ]
    },
    {
     "name": "stderr",
     "output_type": "stream",
     "text": [
      "/Users/gabriellima/Documents/Competitions/qrt-competition/.venv/lib/python3.12/site-packages/xgboost/core.py:158: UserWarning: [18:24:03] WARNING: /Users/runner/work/xgboost/xgboost/src/learner.cc:740: \n",
      "Parameters: { \"use_label_encoder\" } are not used.\n",
      "\n",
      "  warnings.warn(smsg, UserWarning)\n"
     ]
    }
   ],
   "source": [
    "import xgboost as xgb\n",
    "from sklearn.model_selection import RandomizedSearchCV, StratifiedKFold\n",
    "from sklearn.metrics import log_loss\n",
    "\n",
    "# Define the parameter grid\n",
    "param_grid = {\n",
    "    'max_depth': [4, 6, 8, 10],\n",
    "    'learning_rate': [0.01, 0.025, 0.05, 0.1],\n",
    "    'n_estimators': [100, 500, 1000, 2000],\n",
    "    'subsample': [0.6, 0.8, 1.0],\n",
    "    'colsample_bytree': [0.6, 0.8, 1.0],\n",
    "    'gamma': [0, 0.1, 0.2],\n",
    "    'min_child_weight': [1, 3, 5]\n",
    "}\n",
    "\n",
    "# Initialize the model\n",
    "xgb_model = xgb.XGBClassifier(objective='multi:softprob', num_class=3, eval_metric='mlogloss', use_label_encoder=False)\n",
    "\n",
    "# Perform Randomized Search with Cross-Validation\n",
    "random_search = RandomizedSearchCV(\n",
    "    estimator=xgb_model,\n",
    "    param_distributions=param_grid,\n",
    "    n_iter=50,\n",
    "    scoring='neg_log_loss',\n",
    "    cv=StratifiedKFold(n_splits=5),\n",
    "    verbose=2,\n",
    "    n_jobs=-1,\n",
    "    random_state=42\n",
    ")\n",
    "\n",
    "# Fit the RandomizedSearchCV\n",
    "random_search.fit(X_train.replace({0: np.nan}), y_train)\n",
    "\n",
    "# Get the best parameters\n",
    "best_params = random_search.best_params_\n",
    "print(\"Best parameters found: \", best_params)\n"
   ]
  },
  {
   "cell_type": "code",
   "execution_count": 41,
   "id": "ed060aff",
   "metadata": {},
   "outputs": [
    {
     "data": {
      "text/plain": [
       "array([1, 0])"
      ]
     },
     "execution_count": 41,
     "metadata": {},
     "output_type": "execute_result"
    }
   ],
   "source": [
    "y_train.unique()"
   ]
  },
  {
   "cell_type": "code",
   "execution_count": 35,
   "id": "5872ac0b",
   "metadata": {},
   "outputs": [
    {
     "name": "stdout",
     "output_type": "stream",
     "text": [
      "[0]\ttrain-mlogloss:0.68657\teval-mlogloss:0.68780\n",
      "[1]\ttrain-mlogloss:0.68023\teval-mlogloss:0.68273\n",
      "[2]\ttrain-mlogloss:0.67410\teval-mlogloss:0.67792\n",
      "[3]\ttrain-mlogloss:0.66815\teval-mlogloss:0.67311\n",
      "[4]\ttrain-mlogloss:0.66239\teval-mlogloss:0.66848\n",
      "[5]\ttrain-mlogloss:0.65690\teval-mlogloss:0.66432\n",
      "[6]\ttrain-mlogloss:0.65159\teval-mlogloss:0.66012\n",
      "[7]\ttrain-mlogloss:0.64646\teval-mlogloss:0.65609\n",
      "[8]\ttrain-mlogloss:0.64156\teval-mlogloss:0.65237\n",
      "[9]\ttrain-mlogloss:0.63684\teval-mlogloss:0.64875\n",
      "[10]\ttrain-mlogloss:0.63208\teval-mlogloss:0.64529\n",
      "[11]\ttrain-mlogloss:0.62763\teval-mlogloss:0.64183\n",
      "[12]\ttrain-mlogloss:0.62324\teval-mlogloss:0.63853\n",
      "[13]\ttrain-mlogloss:0.61898\teval-mlogloss:0.63567\n",
      "[14]\ttrain-mlogloss:0.61496\teval-mlogloss:0.63263\n",
      "[15]\ttrain-mlogloss:0.61098\teval-mlogloss:0.62972\n",
      "[16]\ttrain-mlogloss:0.60723\teval-mlogloss:0.62706\n",
      "[17]\ttrain-mlogloss:0.60362\teval-mlogloss:0.62459\n",
      "[18]\ttrain-mlogloss:0.59997\teval-mlogloss:0.62224\n",
      "[19]\ttrain-mlogloss:0.59639\teval-mlogloss:0.61987\n",
      "[20]\ttrain-mlogloss:0.59305\teval-mlogloss:0.61756\n",
      "[21]\ttrain-mlogloss:0.58973\teval-mlogloss:0.61522\n",
      "[22]\ttrain-mlogloss:0.58650\teval-mlogloss:0.61298\n",
      "[23]\ttrain-mlogloss:0.58346\teval-mlogloss:0.61102\n",
      "[24]\ttrain-mlogloss:0.58050\teval-mlogloss:0.60910\n",
      "[25]\ttrain-mlogloss:0.57747\teval-mlogloss:0.60735\n",
      "[26]\ttrain-mlogloss:0.57449\teval-mlogloss:0.60547\n",
      "[27]\ttrain-mlogloss:0.57168\teval-mlogloss:0.60394\n",
      "[28]\ttrain-mlogloss:0.56886\teval-mlogloss:0.60224\n",
      "[29]\ttrain-mlogloss:0.56619\teval-mlogloss:0.60070\n",
      "[30]\ttrain-mlogloss:0.56352\teval-mlogloss:0.59908\n",
      "[31]\ttrain-mlogloss:0.56089\teval-mlogloss:0.59777\n",
      "[32]\ttrain-mlogloss:0.55840\teval-mlogloss:0.59624\n",
      "[33]\ttrain-mlogloss:0.55585\teval-mlogloss:0.59484\n",
      "[34]\ttrain-mlogloss:0.55341\teval-mlogloss:0.59354\n",
      "[35]\ttrain-mlogloss:0.55120\teval-mlogloss:0.59218\n",
      "[36]\ttrain-mlogloss:0.54894\teval-mlogloss:0.59096\n",
      "[37]\ttrain-mlogloss:0.54671\teval-mlogloss:0.58997\n",
      "[38]\ttrain-mlogloss:0.54450\teval-mlogloss:0.58875\n",
      "[39]\ttrain-mlogloss:0.54230\teval-mlogloss:0.58762\n",
      "[40]\ttrain-mlogloss:0.54020\teval-mlogloss:0.58651\n",
      "[41]\ttrain-mlogloss:0.53821\teval-mlogloss:0.58562\n",
      "[42]\ttrain-mlogloss:0.53618\teval-mlogloss:0.58475\n",
      "[43]\ttrain-mlogloss:0.53422\teval-mlogloss:0.58399\n",
      "[44]\ttrain-mlogloss:0.53229\teval-mlogloss:0.58296\n",
      "[45]\ttrain-mlogloss:0.53019\teval-mlogloss:0.58207\n",
      "[46]\ttrain-mlogloss:0.52819\teval-mlogloss:0.58130\n",
      "[47]\ttrain-mlogloss:0.52632\teval-mlogloss:0.58042\n",
      "[48]\ttrain-mlogloss:0.52438\teval-mlogloss:0.57955\n",
      "[49]\ttrain-mlogloss:0.52251\teval-mlogloss:0.57886\n",
      "[50]\ttrain-mlogloss:0.52072\teval-mlogloss:0.57821\n",
      "[51]\ttrain-mlogloss:0.51895\teval-mlogloss:0.57747\n",
      "[52]\ttrain-mlogloss:0.51722\teval-mlogloss:0.57674\n",
      "[53]\ttrain-mlogloss:0.51550\teval-mlogloss:0.57615\n",
      "[54]\ttrain-mlogloss:0.51389\teval-mlogloss:0.57558\n",
      "[55]\ttrain-mlogloss:0.51213\teval-mlogloss:0.57485\n",
      "[56]\ttrain-mlogloss:0.51056\teval-mlogloss:0.57416\n",
      "[57]\ttrain-mlogloss:0.50888\teval-mlogloss:0.57365\n",
      "[58]\ttrain-mlogloss:0.50723\teval-mlogloss:0.57311\n",
      "[59]\ttrain-mlogloss:0.50549\teval-mlogloss:0.57247\n",
      "[60]\ttrain-mlogloss:0.50376\teval-mlogloss:0.57202\n",
      "[61]\ttrain-mlogloss:0.50207\teval-mlogloss:0.57136\n",
      "[62]\ttrain-mlogloss:0.50052\teval-mlogloss:0.57100\n",
      "[63]\ttrain-mlogloss:0.49892\teval-mlogloss:0.57056\n",
      "[64]\ttrain-mlogloss:0.49738\teval-mlogloss:0.57010\n",
      "[65]\ttrain-mlogloss:0.49584\teval-mlogloss:0.56965\n",
      "[66]\ttrain-mlogloss:0.49448\teval-mlogloss:0.56917\n",
      "[67]\ttrain-mlogloss:0.49316\teval-mlogloss:0.56876\n",
      "[68]\ttrain-mlogloss:0.49170\teval-mlogloss:0.56832\n",
      "[69]\ttrain-mlogloss:0.49034\teval-mlogloss:0.56792\n",
      "[70]\ttrain-mlogloss:0.48907\teval-mlogloss:0.56762\n",
      "[71]\ttrain-mlogloss:0.48769\teval-mlogloss:0.56726\n",
      "[72]\ttrain-mlogloss:0.48616\teval-mlogloss:0.56700\n",
      "[73]\ttrain-mlogloss:0.48463\teval-mlogloss:0.56670\n",
      "[74]\ttrain-mlogloss:0.48330\teval-mlogloss:0.56643\n",
      "[75]\ttrain-mlogloss:0.48193\teval-mlogloss:0.56621\n",
      "[76]\ttrain-mlogloss:0.48044\teval-mlogloss:0.56576\n",
      "[77]\ttrain-mlogloss:0.47913\teval-mlogloss:0.56540\n",
      "[78]\ttrain-mlogloss:0.47788\teval-mlogloss:0.56500\n",
      "[79]\ttrain-mlogloss:0.47654\teval-mlogloss:0.56466\n",
      "[80]\ttrain-mlogloss:0.47526\teval-mlogloss:0.56434\n",
      "[81]\ttrain-mlogloss:0.47392\teval-mlogloss:0.56401\n",
      "[82]\ttrain-mlogloss:0.47260\teval-mlogloss:0.56378\n",
      "[83]\ttrain-mlogloss:0.47113\teval-mlogloss:0.56348\n",
      "[84]\ttrain-mlogloss:0.46985\teval-mlogloss:0.56319\n",
      "[85]\ttrain-mlogloss:0.46855\teval-mlogloss:0.56307\n",
      "[86]\ttrain-mlogloss:0.46730\teval-mlogloss:0.56284\n",
      "[87]\ttrain-mlogloss:0.46599\teval-mlogloss:0.56261\n",
      "[88]\ttrain-mlogloss:0.46486\teval-mlogloss:0.56236\n",
      "[89]\ttrain-mlogloss:0.46363\teval-mlogloss:0.56217\n",
      "[90]\ttrain-mlogloss:0.46230\teval-mlogloss:0.56205\n",
      "[91]\ttrain-mlogloss:0.46103\teval-mlogloss:0.56173\n",
      "[92]\ttrain-mlogloss:0.45999\teval-mlogloss:0.56136\n",
      "[93]\ttrain-mlogloss:0.45884\teval-mlogloss:0.56112\n",
      "[94]\ttrain-mlogloss:0.45770\teval-mlogloss:0.56091\n",
      "[95]\ttrain-mlogloss:0.45650\teval-mlogloss:0.56070\n",
      "[96]\ttrain-mlogloss:0.45522\teval-mlogloss:0.56062\n",
      "[97]\ttrain-mlogloss:0.45403\teval-mlogloss:0.56038\n",
      "[98]\ttrain-mlogloss:0.45283\teval-mlogloss:0.56033\n",
      "[99]\ttrain-mlogloss:0.45175\teval-mlogloss:0.56004\n",
      "[100]\ttrain-mlogloss:0.45053\teval-mlogloss:0.55976\n",
      "[101]\ttrain-mlogloss:0.44932\teval-mlogloss:0.55947\n",
      "[102]\ttrain-mlogloss:0.44822\teval-mlogloss:0.55954\n",
      "[103]\ttrain-mlogloss:0.44712\teval-mlogloss:0.55936\n",
      "[104]\ttrain-mlogloss:0.44613\teval-mlogloss:0.55922\n",
      "[105]\ttrain-mlogloss:0.44503\teval-mlogloss:0.55910\n",
      "[106]\ttrain-mlogloss:0.44398\teval-mlogloss:0.55897\n",
      "[107]\ttrain-mlogloss:0.44281\teval-mlogloss:0.55882\n",
      "[108]\ttrain-mlogloss:0.44174\teval-mlogloss:0.55888\n",
      "[109]\ttrain-mlogloss:0.44068\teval-mlogloss:0.55888\n",
      "[110]\ttrain-mlogloss:0.43972\teval-mlogloss:0.55886\n",
      "[111]\ttrain-mlogloss:0.43882\teval-mlogloss:0.55884\n",
      "[112]\ttrain-mlogloss:0.43771\teval-mlogloss:0.55878\n",
      "[113]\ttrain-mlogloss:0.43656\teval-mlogloss:0.55869\n",
      "[114]\ttrain-mlogloss:0.43554\teval-mlogloss:0.55854\n",
      "[115]\ttrain-mlogloss:0.43432\teval-mlogloss:0.55851\n",
      "[116]\ttrain-mlogloss:0.43312\teval-mlogloss:0.55837\n",
      "[117]\ttrain-mlogloss:0.43222\teval-mlogloss:0.55823\n",
      "[118]\ttrain-mlogloss:0.43114\teval-mlogloss:0.55820\n",
      "[119]\ttrain-mlogloss:0.43010\teval-mlogloss:0.55814\n",
      "[120]\ttrain-mlogloss:0.42910\teval-mlogloss:0.55799\n",
      "[121]\ttrain-mlogloss:0.42814\teval-mlogloss:0.55792\n",
      "[122]\ttrain-mlogloss:0.42713\teval-mlogloss:0.55771\n",
      "[123]\ttrain-mlogloss:0.42605\teval-mlogloss:0.55772\n",
      "[124]\ttrain-mlogloss:0.42504\teval-mlogloss:0.55766\n",
      "[125]\ttrain-mlogloss:0.42404\teval-mlogloss:0.55765\n",
      "[126]\ttrain-mlogloss:0.42289\teval-mlogloss:0.55757\n",
      "[127]\ttrain-mlogloss:0.42188\teval-mlogloss:0.55753\n",
      "[128]\ttrain-mlogloss:0.42092\teval-mlogloss:0.55741\n",
      "[129]\ttrain-mlogloss:0.41980\teval-mlogloss:0.55747\n",
      "[130]\ttrain-mlogloss:0.41900\teval-mlogloss:0.55739\n",
      "[131]\ttrain-mlogloss:0.41815\teval-mlogloss:0.55735\n",
      "[132]\ttrain-mlogloss:0.41720\teval-mlogloss:0.55713\n",
      "[133]\ttrain-mlogloss:0.41630\teval-mlogloss:0.55713\n",
      "[134]\ttrain-mlogloss:0.41537\teval-mlogloss:0.55717\n",
      "[135]\ttrain-mlogloss:0.41428\teval-mlogloss:0.55703\n",
      "[136]\ttrain-mlogloss:0.41336\teval-mlogloss:0.55706\n",
      "[137]\ttrain-mlogloss:0.41235\teval-mlogloss:0.55696\n",
      "[138]\ttrain-mlogloss:0.41136\teval-mlogloss:0.55698\n",
      "[139]\ttrain-mlogloss:0.41048\teval-mlogloss:0.55713\n",
      "[140]\ttrain-mlogloss:0.40961\teval-mlogloss:0.55720\n",
      "[141]\ttrain-mlogloss:0.40860\teval-mlogloss:0.55704\n",
      "[142]\ttrain-mlogloss:0.40763\teval-mlogloss:0.55715\n",
      "[143]\ttrain-mlogloss:0.40664\teval-mlogloss:0.55691\n",
      "[144]\ttrain-mlogloss:0.40574\teval-mlogloss:0.55684\n",
      "[145]\ttrain-mlogloss:0.40483\teval-mlogloss:0.55673\n",
      "[146]\ttrain-mlogloss:0.40377\teval-mlogloss:0.55678\n",
      "[147]\ttrain-mlogloss:0.40273\teval-mlogloss:0.55664\n",
      "[148]\ttrain-mlogloss:0.40171\teval-mlogloss:0.55664\n",
      "[149]\ttrain-mlogloss:0.40075\teval-mlogloss:0.55664\n",
      "[150]\ttrain-mlogloss:0.39979\teval-mlogloss:0.55665\n",
      "[151]\ttrain-mlogloss:0.39888\teval-mlogloss:0.55670\n",
      "[152]\ttrain-mlogloss:0.39798\teval-mlogloss:0.55669\n",
      "[153]\ttrain-mlogloss:0.39700\teval-mlogloss:0.55673\n",
      "[154]\ttrain-mlogloss:0.39604\teval-mlogloss:0.55662\n",
      "[155]\ttrain-mlogloss:0.39508\teval-mlogloss:0.55659\n",
      "[156]\ttrain-mlogloss:0.39430\teval-mlogloss:0.55642\n",
      "[157]\ttrain-mlogloss:0.39323\teval-mlogloss:0.55641\n",
      "[158]\ttrain-mlogloss:0.39240\teval-mlogloss:0.55646\n",
      "[159]\ttrain-mlogloss:0.39159\teval-mlogloss:0.55658\n",
      "[160]\ttrain-mlogloss:0.39074\teval-mlogloss:0.55650\n",
      "[161]\ttrain-mlogloss:0.38996\teval-mlogloss:0.55649\n",
      "[162]\ttrain-mlogloss:0.38893\teval-mlogloss:0.55662\n",
      "[163]\ttrain-mlogloss:0.38808\teval-mlogloss:0.55655\n",
      "[164]\ttrain-mlogloss:0.38712\teval-mlogloss:0.55648\n",
      "[165]\ttrain-mlogloss:0.38630\teval-mlogloss:0.55670\n",
      "[166]\ttrain-mlogloss:0.38540\teval-mlogloss:0.55667\n",
      "[167]\ttrain-mlogloss:0.38459\teval-mlogloss:0.55675\n",
      "[168]\ttrain-mlogloss:0.38372\teval-mlogloss:0.55673\n",
      "[169]\ttrain-mlogloss:0.38290\teval-mlogloss:0.55682\n",
      "[170]\ttrain-mlogloss:0.38210\teval-mlogloss:0.55683\n",
      "[171]\ttrain-mlogloss:0.38133\teval-mlogloss:0.55685\n",
      "[172]\ttrain-mlogloss:0.38072\teval-mlogloss:0.55684\n",
      "[173]\ttrain-mlogloss:0.37987\teval-mlogloss:0.55691\n",
      "[174]\ttrain-mlogloss:0.37894\teval-mlogloss:0.55691\n",
      "[175]\ttrain-mlogloss:0.37811\teval-mlogloss:0.55686\n",
      "[176]\ttrain-mlogloss:0.37729\teval-mlogloss:0.55676\n",
      "[177]\ttrain-mlogloss:0.37634\teval-mlogloss:0.55695\n",
      "[178]\ttrain-mlogloss:0.37536\teval-mlogloss:0.55695\n",
      "[179]\ttrain-mlogloss:0.37460\teval-mlogloss:0.55688\n",
      "[180]\ttrain-mlogloss:0.37375\teval-mlogloss:0.55686\n",
      "[181]\ttrain-mlogloss:0.37296\teval-mlogloss:0.55693\n",
      "[182]\ttrain-mlogloss:0.37198\teval-mlogloss:0.55696\n",
      "[183]\ttrain-mlogloss:0.37127\teval-mlogloss:0.55681\n",
      "[184]\ttrain-mlogloss:0.37040\teval-mlogloss:0.55679\n",
      "[185]\ttrain-mlogloss:0.36958\teval-mlogloss:0.55688\n",
      "[186]\ttrain-mlogloss:0.36871\teval-mlogloss:0.55699\n",
      "[187]\ttrain-mlogloss:0.36797\teval-mlogloss:0.55685\n",
      "[188]\ttrain-mlogloss:0.36717\teval-mlogloss:0.55686\n",
      "[189]\ttrain-mlogloss:0.36643\teval-mlogloss:0.55687\n",
      "[190]\ttrain-mlogloss:0.36550\teval-mlogloss:0.55681\n",
      "[191]\ttrain-mlogloss:0.36466\teval-mlogloss:0.55671\n",
      "[192]\ttrain-mlogloss:0.36382\teval-mlogloss:0.55662\n",
      "[193]\ttrain-mlogloss:0.36305\teval-mlogloss:0.55654\n",
      "[194]\ttrain-mlogloss:0.36224\teval-mlogloss:0.55649\n",
      "[195]\ttrain-mlogloss:0.36139\teval-mlogloss:0.55650\n",
      "[196]\ttrain-mlogloss:0.36059\teval-mlogloss:0.55653\n",
      "[197]\ttrain-mlogloss:0.35995\teval-mlogloss:0.55659\n",
      "[198]\ttrain-mlogloss:0.35918\teval-mlogloss:0.55668\n",
      "[199]\ttrain-mlogloss:0.35830\teval-mlogloss:0.55661\n",
      "[200]\ttrain-mlogloss:0.35755\teval-mlogloss:0.55660\n",
      "[201]\ttrain-mlogloss:0.35673\teval-mlogloss:0.55675\n",
      "[202]\ttrain-mlogloss:0.35603\teval-mlogloss:0.55686\n",
      "[203]\ttrain-mlogloss:0.35536\teval-mlogloss:0.55688\n",
      "[204]\ttrain-mlogloss:0.35474\teval-mlogloss:0.55684\n",
      "[205]\ttrain-mlogloss:0.35399\teval-mlogloss:0.55688\n",
      "[206]\ttrain-mlogloss:0.35318\teval-mlogloss:0.55694\n",
      "[207]\ttrain-mlogloss:0.35242\teval-mlogloss:0.55696\n",
      "[208]\ttrain-mlogloss:0.35162\teval-mlogloss:0.55711\n",
      "[209]\ttrain-mlogloss:0.35079\teval-mlogloss:0.55715\n",
      "[210]\ttrain-mlogloss:0.34994\teval-mlogloss:0.55725\n",
      "[211]\ttrain-mlogloss:0.34925\teval-mlogloss:0.55735\n",
      "[212]\ttrain-mlogloss:0.34853\teval-mlogloss:0.55755\n",
      "[213]\ttrain-mlogloss:0.34783\teval-mlogloss:0.55758\n",
      "[214]\ttrain-mlogloss:0.34708\teval-mlogloss:0.55749\n",
      "[215]\ttrain-mlogloss:0.34623\teval-mlogloss:0.55746\n",
      "[216]\ttrain-mlogloss:0.34543\teval-mlogloss:0.55747\n",
      "[217]\ttrain-mlogloss:0.34474\teval-mlogloss:0.55763\n",
      "[218]\ttrain-mlogloss:0.34392\teval-mlogloss:0.55763\n",
      "[219]\ttrain-mlogloss:0.34313\teval-mlogloss:0.55771\n",
      "[220]\ttrain-mlogloss:0.34243\teval-mlogloss:0.55766\n",
      "[221]\ttrain-mlogloss:0.34170\teval-mlogloss:0.55755\n",
      "[222]\ttrain-mlogloss:0.34090\teval-mlogloss:0.55761\n",
      "[223]\ttrain-mlogloss:0.34008\teval-mlogloss:0.55766\n",
      "[224]\ttrain-mlogloss:0.33934\teval-mlogloss:0.55763\n",
      "[225]\ttrain-mlogloss:0.33866\teval-mlogloss:0.55767\n",
      "[226]\ttrain-mlogloss:0.33795\teval-mlogloss:0.55754\n",
      "[227]\ttrain-mlogloss:0.33720\teval-mlogloss:0.55761\n",
      "[228]\ttrain-mlogloss:0.33648\teval-mlogloss:0.55764\n",
      "[229]\ttrain-mlogloss:0.33569\teval-mlogloss:0.55768\n",
      "[230]\ttrain-mlogloss:0.33498\teval-mlogloss:0.55766\n",
      "[231]\ttrain-mlogloss:0.33425\teval-mlogloss:0.55768\n",
      "[232]\ttrain-mlogloss:0.33344\teval-mlogloss:0.55766\n",
      "[233]\ttrain-mlogloss:0.33277\teval-mlogloss:0.55758\n",
      "[234]\ttrain-mlogloss:0.33209\teval-mlogloss:0.55760\n",
      "[235]\ttrain-mlogloss:0.33135\teval-mlogloss:0.55757\n",
      "[236]\ttrain-mlogloss:0.33084\teval-mlogloss:0.55759\n",
      "[237]\ttrain-mlogloss:0.33014\teval-mlogloss:0.55762\n",
      "[238]\ttrain-mlogloss:0.32952\teval-mlogloss:0.55751\n",
      "[239]\ttrain-mlogloss:0.32885\teval-mlogloss:0.55760\n",
      "[240]\ttrain-mlogloss:0.32818\teval-mlogloss:0.55756\n",
      "[241]\ttrain-mlogloss:0.32755\teval-mlogloss:0.55771\n",
      "[242]\ttrain-mlogloss:0.32681\teval-mlogloss:0.55768\n",
      "[243]\ttrain-mlogloss:0.32609\teval-mlogloss:0.55770\n",
      "[244]\ttrain-mlogloss:0.32535\teval-mlogloss:0.55775\n",
      "[245]\ttrain-mlogloss:0.32471\teval-mlogloss:0.55776\n",
      "[246]\ttrain-mlogloss:0.32405\teval-mlogloss:0.55787\n",
      "[247]\ttrain-mlogloss:0.32346\teval-mlogloss:0.55793\n",
      "[248]\ttrain-mlogloss:0.32281\teval-mlogloss:0.55793\n",
      "[249]\ttrain-mlogloss:0.32217\teval-mlogloss:0.55794\n",
      "[250]\ttrain-mlogloss:0.32153\teval-mlogloss:0.55790\n",
      "[251]\ttrain-mlogloss:0.32096\teval-mlogloss:0.55787\n",
      "[252]\ttrain-mlogloss:0.32042\teval-mlogloss:0.55793\n",
      "[253]\ttrain-mlogloss:0.31974\teval-mlogloss:0.55805\n",
      "[254]\ttrain-mlogloss:0.31917\teval-mlogloss:0.55803\n",
      "[255]\ttrain-mlogloss:0.31850\teval-mlogloss:0.55802\n",
      "[256]\ttrain-mlogloss:0.31778\teval-mlogloss:0.55800\n",
      "Cross-Validation Log Loss:  0.5817027975133988\n"
     ]
    }
   ],
   "source": [
    "from sklearn.model_selection import cross_val_score\n",
    "\n",
    "# Define the best parameters\n",
    "params_optimized = {\n",
    "    'booster': 'gbtree',\n",
    "    'tree_method': 'hist',\n",
    "    'max_depth': best_params['max_depth'],\n",
    "    'learning_rate': best_params['learning_rate'],\n",
    "    'subsample': best_params['subsample'],\n",
    "    'colsample_bytree': best_params['colsample_bytree'],\n",
    "    'gamma': best_params['gamma'],\n",
    "    'min_child_weight': best_params['min_child_weight'],\n",
    "    'objective': 'multi:softprob',\n",
    "    'num_class': 2,  # Ensure this matches your actual number of classes\n",
    "    'eval_metric': 'mlogloss'\n",
    "}\n",
    "\n",
    "# Create the DMatrix\n",
    "d_train = xgb.DMatrix(X_train.replace({0: np.nan}), y_train)\n",
    "d_valid = xgb.DMatrix(X_valid.replace({0: np.nan}), y_valid)\n",
    "\n",
    "# Train the model with early stopping\n",
    "num_round = 10000\n",
    "evallist = [(d_train, 'train'), (d_valid, 'eval')]\n",
    "\n",
    "bst = xgb.train(params_optimized, d_train, num_round, evallist, early_stopping_rounds=100)\n",
    "\n",
    "# Cross-Validation Scores\n",
    "cv_results = cross_val_score(random_search.best_estimator_, X_train.replace({0: np.nan}), y_train, cv=StratifiedKFold(n_splits=5), scoring='neg_log_loss')\n",
    "print(\"Cross-Validation Log Loss: \", -cv_results.mean())\n"
   ]
  },
  {
   "cell_type": "markdown",
   "id": "7452620c",
   "metadata": {},
   "source": [
    "### Some analysis"
   ]
  },
  {
   "cell_type": "code",
   "execution_count": 17,
   "id": "b646da9b",
   "metadata": {
    "execution": {
     "iopub.execute_input": "2023-12-03T09:01:15.422383Z",
     "iopub.status.busy": "2023-12-03T09:01:15.422117Z",
     "iopub.status.idle": "2023-12-03T09:01:16.110548Z",
     "shell.execute_reply": "2023-12-03T09:01:16.109259Z",
     "shell.execute_reply.started": "2023-12-03T09:01:15.422367Z"
    },
    "scrolled": true,
    "tags": []
   },
   "outputs": [
    {
     "data": {
      "image/png": "[encoded data removed]",
      "text/plain": [
       "<Figure size 1500x2000 with 1 Axes>"
      ]
     },
     "metadata": {},
     "output_type": "display_data"
    }
   ],
   "source": [
    "xgb.plot_importance(bst, max_num_features=25)\n",
    "fig = plt.gcf()\n",
    "fig.set_size_inches(15, 20)"
   ]
  },
  {
   "cell_type": "markdown",
   "id": "0fd1cfcc",
   "metadata": {},
   "source": [
    "### Accuracy on test set"
   ]
  },
  {
   "cell_type": "markdown",
   "id": "c48ae0b6-3a87-4a1f-9277-8f88e148592f",
   "metadata": {},
   "source": [
    "Using our model"
   ]
  },
  {
   "cell_type": "code",
   "execution_count": 36,
   "id": "5f19ea26",
   "metadata": {},
   "outputs": [],
   "source": [
    "X_test_xgb = xgb.DMatrix(X_test)\n",
    "\n",
    "predictions = bst.predict(X_test_xgb, iteration_range=(0, bst.best_iteration))\n",
    "predictions = pd.DataFrame(predictions)"
   ]
  },
  {
   "cell_type": "code",
   "execution_count": 37,
   "id": "6ce746e0",
   "metadata": {},
   "outputs": [
    {
     "data": {
      "text/html": [
       "<div>\n",
       "<style scoped>\n",
       "    .dataframe tbody tr th:only-of-type {\n",
       "        vertical-align: middle;\n",
       "    }\n",
       "\n",
       "    .dataframe tbody tr th {\n",
       "        vertical-align: top;\n",
       "    }\n",
       "\n",
       "    .dataframe thead th {\n",
       "        text-align: right;\n",
       "    }\n",
       "</style>\n",
       "<table border=\"1\" class=\"dataframe\">\n",
       "  <thead>\n",
       "    <tr style=\"text-align: right;\">\n",
       "      <th></th>\n",
       "      <th>0</th>\n",
       "      <th>1</th>\n",
       "    </tr>\n",
       "  </thead>\n",
       "  <tbody>\n",
       "    <tr>\n",
       "      <th>0</th>\n",
       "      <td>0.828889</td>\n",
       "      <td>0.171111</td>\n",
       "    </tr>\n",
       "    <tr>\n",
       "      <th>1</th>\n",
       "      <td>0.676090</td>\n",
       "      <td>0.323910</td>\n",
       "    </tr>\n",
       "    <tr>\n",
       "      <th>2</th>\n",
       "      <td>0.535909</td>\n",
       "      <td>0.464091</td>\n",
       "    </tr>\n",
       "    <tr>\n",
       "      <th>3</th>\n",
       "      <td>0.495888</td>\n",
       "      <td>0.504112</td>\n",
       "    </tr>\n",
       "    <tr>\n",
       "      <th>4</th>\n",
       "      <td>0.757614</td>\n",
       "      <td>0.242386</td>\n",
       "    </tr>\n",
       "  </tbody>\n",
       "</table>\n",
       "</div>"
      ],
      "text/plain": [
       "          0         1\n",
       "0  0.828889  0.171111\n",
       "1  0.676090  0.323910\n",
       "2  0.535909  0.464091\n",
       "3  0.495888  0.504112\n",
       "4  0.757614  0.242386"
      ]
     },
     "execution_count": 37,
     "metadata": {},
     "output_type": "execute_result"
    }
   ],
   "source": [
    "predictions.head()"
   ]
  },
  {
   "cell_type": "code",
   "execution_count": 18,
   "id": "206dbc18",
   "metadata": {
    "execution": {
     "iopub.execute_input": "2023-12-03T09:09:38.720204Z",
     "iopub.status.busy": "2023-12-03T09:09:38.719930Z",
     "iopub.status.idle": "2023-12-03T09:09:38.744635Z",
     "shell.execute_reply": "2023-12-03T09:09:38.743865Z",
     "shell.execute_reply.started": "2023-12-03T09:09:38.720185Z"
    },
    "scrolled": true,
    "tags": []
   },
   "outputs": [
    {
     "data": {
      "text/plain": [
       "0.475"
      ]
     },
     "execution_count": 18,
     "metadata": {},
     "output_type": "execute_result"
    }
   ],
   "source": [
    "X_test_xgb = xgb.DMatrix(X_test)\n",
    "\n",
    "predictions = bst.predict(X_test_xgb, iteration_range=(0, bst.best_iteration))\n",
    "predictions = pd.DataFrame(predictions)\n",
    "\n",
    "predictions[2] = 0\n",
    "predictions.columns = [0,2,1]\n",
    "predictions = (predictions.reindex(columns=[0,1,2]).rank(1,ascending=False)==1).astype(int).values\n",
    "\n",
    "target = train_scores.loc[X_test.index].copy()\n",
    "\n",
    "np.round(accuracy_score(predictions,target),4)\n"
   ]
  },
  {
   "cell_type": "markdown",
   "id": "0afc795a-5be0-40ae-82e3-03cdfdebb9ec",
   "metadata": {},
   "source": [
    "## Submission"
   ]
  },
  {
   "cell_type": "code",
   "execution_count": 19,
   "id": "f4213dad-d1e4-43e0-b550-6c45f7c191e7",
   "metadata": {
    "execution": {
     "iopub.execute_input": "2023-12-03T09:15:39.460534Z",
     "iopub.status.busy": "2023-12-03T09:15:39.460345Z",
     "iopub.status.idle": "2023-12-03T09:15:39.803528Z",
     "shell.execute_reply": "2023-12-03T09:15:39.802034Z",
     "shell.execute_reply.started": "2023-12-03T09:15:39.460520Z"
    },
    "tags": []
   },
   "outputs": [],
   "source": [
    "test_home = pd.read_csv('/Users/gabriellima/Documents/Competitions/DataQRT/Test_Data/test_home_team_statistics_df.csv', index_col=0)\n",
    "test_away = pd.read_csv('/Users/gabriellima/Documents/Competitions/DataQRT/Test_Data/test_away_team_statistics_df.csv', index_col=0)\n",
    "\n",
    "test_home.columns = 'HOME_' + test_home.columns\n",
    "test_away.columns = 'AWAY_' + test_away.columns\n",
    "\n",
    "test_data =  pd.concat([test_home,test_away],join='inner',axis=1)\n",
    "\n",
    "test_data_clean = test_data[keep_columns]"
   ]
  },
  {
   "cell_type": "code",
   "execution_count": 20,
   "id": "64e80780",
   "metadata": {},
   "outputs": [],
   "source": [
    "test_data_fillna = test_data_clean.copy()\n",
    "\n",
    "# Transform the training data\n",
    "if not numerical_cols.empty:\n",
    "    test_data_fillna[numerical_cols] = numerical_imputer.transform(test_data_fillna[numerical_cols])\n",
    "\n",
    "if not categorical_cols.empty:\n",
    "    test_data_fillna[categorical_cols] = categorical_imputer.transform(test_data_fillna[categorical_cols])"
   ]
  },
  {
   "cell_type": "code",
   "execution_count": 21,
   "id": "47898db7-290c-4fae-85cc-cfaa82977e16",
   "metadata": {
    "execution": {
     "iopub.execute_input": "2023-12-03T09:47:51.002870Z",
     "iopub.status.busy": "2023-12-03T09:47:51.002680Z",
     "iopub.status.idle": "2023-12-03T09:47:51.145776Z",
     "shell.execute_reply": "2023-12-03T09:47:51.144474Z",
     "shell.execute_reply.started": "2023-12-03T09:47:51.002857Z"
    },
    "tags": []
   },
   "outputs": [
    {
     "name": "stdout",
     "output_type": "stream",
     "text": [
      "Saved the submission file as: ../submissions/submission_3.csv\n"
     ]
    }
   ],
   "source": [
    "X_bench = xgb.DMatrix(test_data_fillna)\n",
    "\n",
    "predictions = bst.predict(X_bench, iteration_range=(0, bst.best_iteration))\n",
    "predictions = pd.DataFrame(predictions)\n",
    "\n",
    "predictions[2] = 0\n",
    "predictions.columns = [0,2,1]\n",
    "predictions = (predictions.reindex(columns=[0,1,2]).rank(1,ascending=False)==1).astype(int)\n",
    "\n",
    "predictions.columns = ['HOME_WINS', 'DRAW', 'AWAY_WINS']\n",
    "predictions.index = test_data.index\n",
    "submission = predictions.reset_index()\n",
    "\n",
    "# Find the highest index of existing submission files\n",
    "existing_files = [f for f in os.listdir('../submissions/') if re.match(r'submission_\\d+\\.csv', f)]\n",
    "max_index = 0\n",
    "\n",
    "for file in existing_files:\n",
    "    match = re.match(r'submission_(\\d+)\\.csv', file)\n",
    "    if match:\n",
    "        index = int(match.group(1))\n",
    "        if index > max_index:\n",
    "            max_index = index\n",
    "\n",
    "# Increment the index for the new file\n",
    "new_index = max_index + 1\n",
    "submission_file_name = f'../submissions/submission_{new_index}.csv'\n",
    "\n",
    "# Save the new submission file\n",
    "submission.to_csv(submission_file_name, index=False)\n",
    "\n",
    "print(f\"Saved the submission file as: {submission_file_name}\")"
   ]
  }
 ],
 "metadata": {
  "kernelspec": {
   "display_name": "Python 3 (ipykernel)",
   "language": "python",
   "name": "python3"
  },
  "language_info": {
   "codemirror_mode": {
    "name": "ipython",
    "version": 3
   },
   "file_extension": ".py",
   "mimetype": "text/x-python",
   "name": "python",
   "nbconvert_exporter": "python",
   "pygments_lexer": "ipython3",
   "version": "3.12.2"
  }
 },
 "nbformat": 4,
 "nbformat_minor": 5
}
